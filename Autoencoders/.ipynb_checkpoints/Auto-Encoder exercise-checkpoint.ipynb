{
 "cells": [
  {
   "cell_type": "code",
   "execution_count": 1,
   "metadata": {},
   "outputs": [],
   "source": [
    "import torch\n",
    "import torchvision\n",
    "from torch import nn\n",
    "from torch.utils.data import DataLoader\n",
    "from torchvision import transforms\n",
    "from torchvision.datasets import FashionMNIST\n",
    "from matplotlib import pyplot as plt"
   ]
  },
  {
   "cell_type": "code",
   "execution_count": 2,
   "metadata": {},
   "outputs": [],
   "source": [
    "# Convert vector to image\n",
    "def to_img(x):\n",
    "    x = 0.5 * (x + 1)\n",
    "    x = x.view(x.size(0), 28, 28)\n",
    "    return x"
   ]
  },
  {
   "cell_type": "code",
   "execution_count": 5,
   "metadata": {},
   "outputs": [],
   "source": [
    "bs = 1000\n",
    "\n",
    "transform = transforms.Compose([transforms.ToTensor()])\n",
    "\n",
    "traindataset = FashionMNIST('./data', download=True, train=True, transform=transform)\n",
    "testdataset = FashionMNIST('./data', download=True, train=False, transform=transform)\n",
    "\n",
    "# Loaders\n",
    "trainloader = torch.utils.data.DataLoader(traindataset, batch_size=bs, shuffle=True, num_workers=4)\n",
    "testloader = torch.utils.data.DataLoader(testdataset, batch_size=bs, shuffle=False, num_workers=4)"
   ]
  },
  {
   "cell_type": "code",
   "execution_count": 14,
   "metadata": {},
   "outputs": [],
   "source": [
    "# Displaying routine\n",
    "def display_images(in_, out, n=1):\n",
    "    for N in range(n):\n",
    "        if in_ is not None:\n",
    "            in_pic = to_img(in_.cpu().data)\n",
    "            plt.figure(figsize=(18, 6))\n",
    "            for i in range(4):\n",
    "                plt.subplot(1,4,i+1)\n",
    "                plt.imshow(in_pic[i+4*N])\n",
    "                plt.axis('off')\n",
    "        out_pic = to_img(out.cpu().data)\n",
    "        plt.figure(figsize=(18, 6))\n",
    "        for i in range(4):\n",
    "            plt.subplot(1,4,i+1)\n",
    "            plt.imshow(out_pic[i+4*N])\n",
    "            plt.axis('off')"
   ]
  },
  {
   "cell_type": "code",
   "execution_count": 8,
   "metadata": {},
   "outputs": [],
   "source": [
    "class AutoEncoder(nn.Module):\n",
    "    def __init__(self):\n",
    "        super(AutoEncoder, self).__init__()\n",
    "        self.encoder = nn.Sequential(\n",
    "        nn.Linear(28*28, 100),\n",
    "        nn.ReLU())\n",
    "        \n",
    "        self.decoder = nn.Sequential(\n",
    "        nn.Linear(100, 28*28),\n",
    "        nn.ReLU())\n",
    "        \n",
    "    def forward(self, x):\n",
    "        x = self.encoder(x)\n",
    "        x = self.decoder(x)\n",
    "        return x"
   ]
  },
  {
   "cell_type": "code",
   "execution_count": 9,
   "metadata": {},
   "outputs": [],
   "source": [
    "model_ae = AutoEncoder()"
   ]
  },
  {
   "cell_type": "code",
   "execution_count": 11,
   "metadata": {},
   "outputs": [],
   "source": [
    "# Configure the optimiszer and criterion\n",
    "learning_rate = 1e-3\n",
    "\n",
    "optimizer = torch.optim.Adam(model_ae.parameters(), lr=learning_rate)\n",
    "criterion = nn.MSELoss()"
   ]
  },
  {
   "cell_type": "code",
   "execution_count": 15,
   "metadata": {},
   "outputs": [
    {
     "name": "stdout",
     "output_type": "stream",
     "text": [
      "epoch [1/10], loss:0.0307\n",
      "epoch [2/10], loss:0.0273\n",
      "epoch [3/10], loss:0.0253\n",
      "epoch [4/10], loss:0.0243\n",
      "epoch [5/10], loss:0.0219\n",
      "epoch [6/10], loss:0.0210\n",
      "epoch [7/10], loss:0.0197\n",
      "epoch [8/10], loss:0.0193\n",
      "epoch [9/10], loss:0.0186\n",
      "epoch [10/10], loss:0.0191\n"
     ]
    }
   ],
   "source": [
    "num_epochs = 10\n",
    "\n",
    "for epoch in range(num_epochs):\n",
    "    for data in trainloader:\n",
    "        img, _ = data\n",
    "        img.requires_grad_()\n",
    "        img = img.view(img.size(0), -1)\n",
    "        output = model_ae(img)  \n",
    "        loss = criterion(output, img.data)\n",
    "        optimizer.zero_grad()\n",
    "        loss.backward()\n",
    "        optimizer.step()\n",
    "    # ===================log========================\n",
    "    print(f'epoch [{epoch + 1}/{num_epochs}], loss:{loss.item():.4f}')\n",
    "    display_images(None, output)"
   ]
  },
  {
   "cell_type": "code",
   "execution_count": 21,
   "metadata": {},
   "outputs": [],
   "source": [
    "from torch.autograd import Variable\n",
    "plt.style.use('default')\n",
    "%matplotlib inline "
   ]
  },
  {
   "cell_type": "code",
   "execution_count": 22,
   "metadata": {},
   "outputs": [
    {
     "data": {
      "image/png": "[encoded data removed]",
      "text/plain": [
       "<Figure size 432x288 with 2 Axes>"
      ]
     },
     "metadata": {
      "needs_background": "light"
     },
     "output_type": "display_data"
    }
   ],
   "source": [
    "test_images, labels = next(iter(testloader))\n",
    "\n",
    "test_images = Variable(test_images.view(test_images.size()[0], -1))\n",
    "test_output = model_ae(test_images)\n",
    "  \n",
    "inp = test_images.view(-1, 28, 28)\n",
    "out = test_output.view(-1, 28, 28)\n",
    "\n",
    "fig = plt.figure()\n",
    "plot = fig.add_subplot(1, 2, 1)\n",
    "plot.set_title('Original Image')\n",
    "imgplot = plt.imshow(inp[0].cpu(), cmap='gray')\n",
    "\n",
    "plot = fig.add_subplot(1, 2, 2)\n",
    "plot.set_title('Generated Image')\n",
    "imgplot = plt.imshow(out[0].cpu().detach(), cmap='gray')\n",
    "plt.show()"
   ]
  },
  {
   "cell_type": "markdown",
   "metadata": {},
   "source": [
    "# Exercises\n",
    "\n",
    "Your exercise should you choose to accept, is to \n",
    "\n",
    "1. change the model class to use Convolution Layers and re-run with the same training code in cells below.\n",
    "2. Edit the code above for denoising autoencoder? (bonus point if your code it)\n",
    "3. Briefly describe the performance of using the fully connected auto-encoder to the CNN_Autoencoder\n",
    "\n",
    "Deadline: Today: 2:pm"
   ]
  },
  {
   "cell_type": "markdown",
   "metadata": {},
   "source": []
  }
 ],
 "metadata": {
  "kernelspec": {
   "display_name": "Python 3",
   "language": "python",
   "name": "python3"
  },
  "language_info": {
   "codemirror_mode": {
    "name": "ipython",
    "version": 3
   },
   "file_extension": ".py",
   "mimetype": "text/x-python",
   "name": "python",
   "nbconvert_exporter": "python",
   "pygments_lexer": "ipython3",
   "version": "3.7.3"
  }
 },
 "nbformat": 4,
 "nbformat_minor": 4
}
