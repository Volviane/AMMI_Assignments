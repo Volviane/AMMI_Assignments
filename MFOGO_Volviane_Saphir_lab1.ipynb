{
  "nbformat": 4,
  "nbformat_minor": 0,
  "metadata": {
    "accelerator": "TPU",
    "colab": {
      "name": "MFOGO_Volviane_Saphir_lab1.ipynb",
      "provenance": [],
      "collapsed_sections": [
        "N4UnbCdcqHPu"
      ],
      "include_colab_link": true
    },
    "kernelspec": {
      "name": "python3",
      "display_name": "Python 3"
    },
    "language_info": {
      "codemirror_mode": {
        "name": "ipython",
        "version": 3
      },
      "file_extension": ".py",
      "mimetype": "text/x-python",
      "name": "python",
      "nbconvert_exporter": "python",
      "pygments_lexer": "ipython3",
      "version": "3.7.4"
    }
  },
  "cells": [
    {
      "cell_type": "markdown",
      "metadata": {
        "id": "view-in-github",
        "colab_type": "text"
      },
      "source": [
        "<a href=\"https://colab.research.google.com/github/Volviane/AMMI_Assignments/blob/master/MFOGO_Volviane_Saphir_lab1.ipynb\" target=\"_parent\"><img src=\"https://colab.research.google.com/assets/colab-badge.svg\" alt=\"Open In Colab\"/></a>"
      ]
    },
    {
      "cell_type": "markdown",
      "metadata": {
        "colab_type": "text",
        "id": "uzAMazBhyO7O"
      },
      "source": [
        "# AMMI Deep Natural Language Processing: Lab 1"
      ]
    },
    {
      "cell_type": "markdown",
      "metadata": {
        "colab_type": "text",
        "id": "z2oBLu8PyV1V"
      },
      "source": [
        "## 0. Introduction"
      ]
    },
    {
      "cell_type": "markdown",
      "metadata": {
        "colab_type": "text",
        "id": "NHed26lWcGwQ"
      },
      "source": [
        "In this tutorial we will train neural networks on the bAbI tasks using ParlAI framework.  \n",
        "This tutorial can be run both in google colab or on your computer.  \n",
        "The solutions will be added during the lab [here](https://fburl.com/ammi_dnlp_lab1).  \n",
        "\n",
        "We will cover the following:\n",
        "0. Introduction\n",
        "    - Introduction to ParlAI and installation\n",
        "    - Introduction to the bAbI tasks\n",
        "1. Exploring the data:\n",
        "    - Compute some statistics (number of examples in train, valid, test, size of examples...)\n",
        "    - Look at some examples\n",
        "2. Choose the appropriate metrics\n",
        "3. Baselines\n",
        "    - Ranom baseline\n",
        "    - Majority class baseline\n",
        "    - Information retrieval baseline\n",
        "4. More elaborate models\n",
        "   - Generative model: Seq2Seq\n",
        "   - Ranking model: Memory Network\n",
        "5. To go further\n",
        "    - Additional ideas to try if you want to dig deeper\n",
        "\n",
        "### ParlAI\n",
        "[ParlAI](https://github.com/facebookresearch/ParlAI/blob/master/README.md) (pronounced “par-lay”) is a framework for dialogue AI research, implemented in Python.\n",
        "\n",
        "Its goal is to provide researchers:\n",
        "\n",
        "* a unified framework for sharing, training and testing dialogue models\n",
        "* many popular datasets available all in one place -- from open-domain chitchat to visual question answering.\n",
        "* a wide set of reference models -- from retrieval baselines to Transformers.\n",
        "* seamless integration of Amazon Mechanical Turk for data collection and human evaluation\n",
        "* integration with Facebook Messenger to connect agents with humans in a chat interface\n",
        "\n",
        "Documentation can be found [here](http://www.parl.ai/static/docs/), some of this tutorial is inspired from the ParlAI documentation so feel free to go back and forth between the notebook and the documentation.\n",
        "\n",
        "\n",
        "### Setup the notebook\n",
        "If using google colab, make sure to use TPU runtime by going to ***Runtime > Change runtime type > Hardware accelerator: TPU > Save***"
      ]
    },
    {
      "cell_type": "markdown",
      "metadata": {
        "colab_type": "text",
        "id": "-k8BZE3HJaut"
      },
      "source": [
        "### Install ParlAI\n",
        "\n",
        "Start by installing ParlAI from github. The ParlAI folder will be located in the home directory at `~/ParlAI/`.  \n",
        "*Note: In a jupyter notebook, you can run arbitrary bash commands by prefixing them with a question mark, example: `!echo \"Hello World\"`*"
      ]
    },
    {
      "cell_type": "code",
      "metadata": {
        "colab_type": "code",
        "id": "l8V7QcnMI7Wk",
        "outputId": "a2988c72-b729-472b-9117-78d6af0ecbf4",
        "colab": {
          "base_uri": "https://localhost:8080/",
          "height": 51
        }
      },
      "source": [
        "# Remove `> /dev/null` to see the output of commands\n",
        "!git clone https://github.com/facebookresearch/ParlAI.git ~/ParlAI  > /dev/null\n",
        "!cd ~/ParlAI && git checkout 6bd0e58692b3fd3a13b5f654944525ac1b7cd8e3\n",
        "!cd ~/ParlAI && python3 setup.py develop > /dev/null"
      ],
      "execution_count": 0,
      "outputs": [
        {
          "output_type": "stream",
          "text": [
            "fatal: destination path '/root/ParlAI' already exists and is not an empty directory.\n",
            "HEAD is now at 6bd0e586 light paper link on webpage! (#1536)\n"
          ],
          "name": "stdout"
        }
      ]
    },
    {
      "cell_type": "markdown",
      "metadata": {
        "colab_type": "text",
        "id": "EJDOC-zsL3wR"
      },
      "source": [
        "Most of the scripts that we will use in ParlAI are located in the `~/ParlAI/examples` directory.  \n",
        "Let's have a first glance at the scripts available, we will come back to them later:"
      ]
    },
    {
      "cell_type": "code",
      "metadata": {
        "colab_type": "code",
        "id": "bIMjwxKrLm36",
        "outputId": "eace90b5-e94b-40b8-e763-59ea32c7fdbf",
        "colab": {
          "base_uri": "https://localhost:8080/",
          "height": 103
        }
      },
      "source": [
        "!ls ~/ParlAI/examples/"
      ],
      "execution_count": 0,
      "outputs": [
        {
          "output_type": "stream",
          "text": [
            "base_train.py\t       eval_model.py\t\t remote.py\n",
            "build_dict.py\t       extract_image_feature.py  seq2seq_train_babi.py\n",
            "build_pytorch_data.py  interactive.py\t\t train_model.py\n",
            "display_data.py        profile_train.py\n",
            "display_model.py       README.md\n"
          ],
          "name": "stdout"
        }
      ]
    },
    {
      "cell_type": "markdown",
      "metadata": {
        "colab_type": "text",
        "id": "N4UnbCdcqHPu"
      },
      "source": [
        "### The bAbI tasks\n",
        "Many datasets and tasks are included in ParlAI, we will focus on the bAbI tasks.\n",
        "The bAbI tasks are 20 synthetic tasks that each test a unique aspect of text and reasoning, and hence test different capabilities of learning models from [Weston et al. ‘16](http://arxiv.org/abs/1502.05698).\n",
        "\n",
        "---\n",
        "**Question 0.**  \n",
        "Open the bAbI [paper](https://arxiv.org/pdf/1502.05698.pdf) and read the abstract  and section: *\"3 The Tasks\"* (until paragraph **Two or Three Supporting Facts**,  included).  \n",
        "- **0.a.** Explain in your own words the motivations behind these tasks (in 2-3 sentences).\n",
        "\n",
        "*ANSWER HERE*\n",
        "\n",
        "The motivation behind these tasks is to build examples of QA that aims to require a unique aspect of text and reasoning, testing the different capabilities of the learning models.\n",
        "\n",
        "---\n",
        "\n",
        "These tasks can be downloaded and used directly from ParlAI.  \n",
        "We will focus on tasks 1, 2 and 3, see examples below:\n",
        "\n",
        "\n",
        "**Task 1: Single Supporting Fact**  \n",
        "Mary went to the bathroom.  \n",
        "John moved to the hallway.  \n",
        "Mary travelled to the office.  \n",
        "Where is Mary?  \n",
        "**Answer: office**  \n",
        "\n",
        "\n",
        "**Task 2: Two Supporting Facts**  \n",
        "John is in the playground.  \n",
        "John picked up the football.  \n",
        "Bob went to the kitchen.  \n",
        "Where is the football?  \n",
        "**Answer: playground**\n",
        "\n",
        "\n",
        "**Task 3: Three Supporting Facts **  \n",
        "John picked up the apple.  \n",
        "John went to the office.  \n",
        "John went to the kitchen.  \n",
        "John dropped the apple.   \n",
        "Where was the apple before the kitchen?  \n",
        "**Answer: office**\n",
        "\n"
      ]
    },
    {
      "cell_type": "markdown",
      "metadata": {
        "colab_type": "text",
        "id": "L6IZA9r0MjBd"
      },
      "source": [
        "## 1. Exploring the data"
      ]
    },
    {
      "cell_type": "markdown",
      "metadata": {
        "colab_type": "text",
        "id": "1Cc-Si6SyatK"
      },
      "source": [
        "First we need to download the data, we will use the `build_dict.py` as a dummy task to download the data."
      ]
    },
    {
      "cell_type": "code",
      "metadata": {
        "colab_type": "code",
        "id": "XAEH7xUXtxFj",
        "outputId": "c9c518fc-901c-417f-f57f-e67431a09ef2",
        "colab": {
          "base_uri": "https://localhost:8080/",
          "height": 1000
        }
      },
      "source": [
        "# Download the data silently\n",
        "!python ~/ParlAI/examples/build_dict.py --task babi:task1k:1 --dict-file /tmp/babi1.dict\n",
        "# Print a few examples\n",
        "!head -n 30 ~/ParlAI/data/bAbI/tasks_1-20_v1-2/en-valid-10k-nosf/qa1_train.txt"
      ],
      "execution_count": 0,
      "outputs": [
        {
          "output_type": "stream",
          "text": [
            "[ Main ParlAI Arguments: ] \n",
            "[  batchsize: 1 ]\n",
            "[  datapath: /root/ParlAI/data ]\n",
            "[  datatype: train ]\n",
            "[  download_path: /root/ParlAI/downloads ]\n",
            "[  hide_labels: False ]\n",
            "[  image_mode: raw ]\n",
            "[  multitask_weights: [1] ]\n",
            "[  numthreads: 1 ]\n",
            "[  show_advanced_args: False ]\n",
            "[  task: babi:task1k:1 ]\n",
            "[ ParlAI Model Arguments: ] \n",
            "[  dict_class: None ]\n",
            "[  init_model: None ]\n",
            "[  model: None ]\n",
            "[  model_file: None ]\n",
            "[ PytorchData Arguments: ] \n",
            "[  batch_length_range: 5 ]\n",
            "[  batch_sort_cache_type: pop ]\n",
            "[  batch_sort_field: text ]\n",
            "[  numworkers: 4 ]\n",
            "[  pytorch_context_length: -1 ]\n",
            "[  pytorch_datapath: None ]\n",
            "[  pytorch_include_labels: True ]\n",
            "[  pytorch_preprocess: False ]\n",
            "[  pytorch_teacher_batch_sort: False ]\n",
            "[  pytorch_teacher_dataset: None ]\n",
            "[  pytorch_teacher_task: None ]\n",
            "[  shuffle: False ]\n",
            "[ Dictionary Loop Arguments: ] \n",
            "[  dict_include_test: False ]\n",
            "[  dict_include_valid: False ]\n",
            "[  dict_maxexs: -1 ]\n",
            "[  log_every_n_secs: 2 ]\n",
            "[ Dictionary Arguments: ] \n",
            "[  bpe_debug: False ]\n",
            "[  dict_endtoken: __end__ ]\n",
            "[  dict_file: /tmp/babi1.dict ]\n",
            "[  dict_initpath: None ]\n",
            "[  dict_language: english ]\n",
            "[  dict_lower: False ]\n",
            "[  dict_max_ngram_size: -1 ]\n",
            "[  dict_maxtokens: -1 ]\n",
            "[  dict_minfreq: 0 ]\n",
            "[  dict_nulltoken: __null__ ]\n",
            "[  dict_starttoken: __start__ ]\n",
            "[  dict_textfields: text,labels ]\n",
            "[  dict_tokenizer: re ]\n",
            "[  dict_unktoken: __unk__ ]\n",
            "[ ParlAI Image Preprocessing Arguments: ] \n",
            "[  image_cropsize: 224 ]\n",
            "[  image_size: 256 ]\n",
            "Dictionary: loading dictionary from /tmp/babi1.dict\n",
            "[ num words =  26 ]\n",
            "[ dictionary already built .]\n",
            "1 Mary moved to the bathroom.\n",
            "2 John went to the hallway.\n",
            "3 Where is Mary? \tbathroom\n",
            "4 Daniel went back to the hallway.\n",
            "5 Sandra moved to the garden.\n",
            "6 Where is Daniel? \thallway\n",
            "7 John moved to the office.\n",
            "8 Sandra journeyed to the bathroom.\n",
            "9 Where is Daniel? \thallway\n",
            "10 Mary moved to the hallway.\n",
            "11 Daniel travelled to the office.\n",
            "12 Where is Daniel? \toffice\n",
            "13 John went back to the garden.\n",
            "14 John moved to the bedroom.\n",
            "15 Where is Sandra? \tbathroom\n",
            "1 Mary went to the bedroom.\n",
            "2 John journeyed to the bathroom.\n",
            "3 Where is John? \tbathroom\n",
            "4 Sandra journeyed to the hallway.\n",
            "5 John journeyed to the garden.\n",
            "6 Where is Mary? \tbedroom\n",
            "7 John journeyed to the bathroom.\n",
            "8 Sandra journeyed to the garden.\n",
            "9 Where is John? \tbathroom\n",
            "10 Sandra went back to the bedroom.\n",
            "11 Daniel travelled to the bathroom.\n",
            "12 Where is John? \tbathroom\n",
            "13 John went to the office.\n",
            "14 Mary moved to the office.\n",
            "15 Where is Sandra? \tbedroom\n"
          ],
          "name": "stdout"
        }
      ]
    },
    {
      "cell_type": "markdown",
      "metadata": {
        "colab_type": "text",
        "id": "vbc5n2xpPnsb"
      },
      "source": [
        "The bAbI tasks were downloaded in `~/ParlAI/data/bAbI/tasks_1-20_v1-2/en-valid-nosf/`\n",
        "\n",
        "In bAbI the data is organised as follows:\n",
        "- **Dialog turn**: A dialog turn is a single utterance / statement. Each line in the file corresponds to one dialog turn.   \n",
        "  Example: *\"John went to the office.\"*\n",
        "- **Sample (question)**: Every few dialog turns, a question can be asked that the model has to answer, this consitute a sample.  The question is followed by its ground truth answer, separated by a tab.\n",
        "  Example: *\"Where is John? `<tab>` bathroom\"*\n",
        "- **Episode**: a sequence of ordered coherent dialog turns that are related to each other form an episode. Each new episode is independant of the others. Each line starts with the dialog turn number in the current episode.\n",
        "\n",
        "\n",
        "---\n",
        "**Question 1.**\n",
        "- **1.a.** Look at the training file of task 1 (`~/ParlAI/data/bAbI/tasks_1-20_v1-2/en/qa1_train.txt`) and compute the following information:\n",
        "  - Number of episodes\n",
        "  - Number of  samples (questions)\n",
        "  - Number of dialog turns per episode\n",
        "  - How many different answers are there in the train set? How many times does each appear? (*hint: Use a python [counter](https://docs.python.org/3/library/collections.html#collections.Counter)*)\n",
        "  - How many unique words appear in the training set? How many time does each appear? (*hint: Use the Counter `most_common()` method*)\n",
        "\n",
        "*Print the answer in the following code cell*\n",
        "  \n",
        "  ---"
      ]
    },
    {
      "cell_type": "code",
      "metadata": {
        "colab_type": "code",
        "id": "nk7B40wOf8nU",
        "outputId": "e127ffa4-cde1-4a3e-991f-0a8ce6808ddb",
        "colab": {
          "base_uri": "https://localhost:8080/",
          "height": 157
        }
      },
      "source": [
        "# SOLUTION\n",
        "from collections import Counter\n",
        "\n",
        "\n",
        "task_1_train_path = '/root/ParlAI/data/bAbI/tasks_1-20_v1-2/en-valid-10k-nosf/qa1_train.txt'\n",
        "i = 0\n",
        "n_episodes = 0\n",
        "n_questions = 0\n",
        "n_total_dialog_turns = 0\n",
        "possible_answers = Counter()\n",
        "vocabulary = Counter()\n",
        "with open(task_1_train_path, 'r') as f:\n",
        "    for line in f:\n",
        "        # Each line starts with an integer giving the dialog turn in the current episode.\n",
        "        # Each episode contains dialog turns with questions (with the answer next to it separated by a tab)\n",
        "        line = line.strip('\\n')\n",
        "        dialog_turn = int(line.split(' ')[0])\n",
        "        if dialog_turn == 1:\n",
        "            n_episodes += 1\n",
        "        # Remove the dialog turn number\n",
        "        line = ' '.join(line.split(' ')[1:])\n",
        "        fields = line.split('\\t')\n",
        "        if len(fields) > 1:\n",
        "            n_questions += 1\n",
        "            possible_answers.update([fields[1]])\n",
        "        vocabulary.update(fields[0].split(' '))\n",
        "        n_total_dialog_turns += 1\n",
        "print(f'Number of episodes: {n_episodes}')\n",
        "print(f'Number of questions: {n_questions}')\n",
        "print(f'Number of dialog turns per episode: {n_total_dialog_turns/n_episodes}')\n",
        "print(f'Possible answers: {possible_answers} ({len(possible_answers)})')\n",
        "print(f'Accuracy of a random model: {1/len(possible_answers):.4f}')\n",
        "print(f'Vocabulary size: {len(vocabulary)}')\n",
        "print(f'Most common words: {vocabulary.most_common()}')"
      ],
      "execution_count": 0,
      "outputs": [
        {
          "output_type": "stream",
          "text": [
            "Number of episodes: 1800\n",
            "Number of questions: 9000\n",
            "Number of dialog turns per episode: 15.0\n",
            "Possible answers: Counter({'bathroom': 1564, 'hallway': 1517, 'garden': 1508, 'bedroom': 1473, 'kitchen': 1471, 'office': 1467}) (6)\n",
            "Accuracy of a random model: 0.1667\n",
            "Vocabulary size: 24\n",
            "Most common words: [('to', 18000), ('the', 18000), ('Where', 9000), ('is', 9000), ('', 9000), ('went', 7225), ('Mary', 4535), ('Sandra', 4502), ('John', 4484), ('Daniel', 4479), ('journeyed', 3620), ('travelled', 3582), ('back', 3581), ('moved', 3573), ('bathroom.', 3070), ('hallway.', 3045), ('garden.', 2982), ('kitchen.', 2981), ('office.', 2963), ('bedroom.', 2959), ('John?', 2299), ('Mary?', 2265), ('Sandra?', 2244), ('Daniel?', 2192)]\n"
          ],
          "name": "stdout"
        }
      ]
    },
    {
      "cell_type": "markdown",
      "metadata": {
        "colab_type": "text",
        "id": "XNYNtDHiuVq8"
      },
      "source": [
        "\n",
        "- **2.b.** Use the appropriate script from the `~/ParlAI/examples/` to take a quick look at examples of the first bAbI task.  \n",
        "Does the number of episodes and examples fit what you computed before? (*hint: you can use the argument `--task babi:task1k:1` to select the first babi task*)"
      ]
    },
    {
      "cell_type": "code",
      "metadata": {
        "colab_type": "code",
        "id": "f6HlIvzGgKv2",
        "outputId": "e2c91a60-a6c6-42a7-a7a9-53350fcca9fb",
        "colab": {
          "base_uri": "https://localhost:8080/",
          "height": 1000
        }
      },
      "source": [
        "# FILL THIS CELL\n",
        "!python ~/ParlAI/examples/display_data.py --task babi:task10k:1"
      ],
      "execution_count": 0,
      "outputs": [
        {
          "output_type": "stream",
          "text": [
            "[ optional arguments: ] \n",
            "[  display_ignore_fields: agent_reply ]\n",
            "[  max_display_len: 1000 ]\n",
            "[  num_examples: 10 ]\n",
            "[ Main ParlAI Arguments: ] \n",
            "[  batchsize: 1 ]\n",
            "[  datapath: /root/ParlAI/data ]\n",
            "[  datatype: train:stream ]\n",
            "[  download_path: /root/ParlAI/downloads ]\n",
            "[  hide_labels: False ]\n",
            "[  image_mode: raw ]\n",
            "[  multitask_weights: [1] ]\n",
            "[  numthreads: 1 ]\n",
            "[  show_advanced_args: False ]\n",
            "[  task: babi:task10k:1 ]\n",
            "[ ParlAI Model Arguments: ] \n",
            "[  dict_class: None ]\n",
            "[  init_model: None ]\n",
            "[  model: None ]\n",
            "[  model_file: None ]\n",
            "[ PytorchData Arguments: ] \n",
            "[  batch_length_range: 5 ]\n",
            "[  batch_sort_cache_type: pop ]\n",
            "[  batch_sort_field: text ]\n",
            "[  numworkers: 4 ]\n",
            "[  pytorch_context_length: -1 ]\n",
            "[  pytorch_datapath: None ]\n",
            "[  pytorch_include_labels: True ]\n",
            "[  pytorch_preprocess: False ]\n",
            "[  pytorch_teacher_batch_sort: False ]\n",
            "[  pytorch_teacher_dataset: None ]\n",
            "[  pytorch_teacher_task: None ]\n",
            "[  shuffle: False ]\n",
            "[ ParlAI Image Preprocessing Arguments: ] \n",
            "[  image_cropsize: 224 ]\n",
            "[  image_size: 256 ]\n",
            "[creating task(s): babi:task10k:1]\n",
            "[loading fbdialog data:/root/ParlAI/data/bAbI/tasks_1-20_v1-2/en-valid-10k-nosf/qa1_train.txt]\n",
            "[babi:task10k:1]: Mary moved to the bathroom.\n",
            "John went to the hallway.\n",
            "Where is Mary?\n",
            "[labels: bathroom]\n",
            "[label_candidates: bedroom|hallway|garden|kitchen|bathroom|...and 1 more]\n",
            "~~\n",
            "[babi:task10k:1]: Daniel went back to the hallway.\n",
            "Sandra moved to the garden.\n",
            "Where is Daniel?\n",
            "[labels: hallway]\n",
            "[label_candidates: bedroom|hallway|garden|kitchen|bathroom|...and 1 more]\n",
            "~~\n",
            "[babi:task10k:1]: John moved to the office.\n",
            "Sandra journeyed to the bathroom.\n",
            "Where is Daniel?\n",
            "[labels: hallway]\n",
            "[label_candidates: bedroom|hallway|garden|kitchen|bathroom|...and 1 more]\n",
            "~~\n",
            "[babi:task10k:1]: Mary moved to the hallway.\n",
            "Daniel travelled to the office.\n",
            "Where is Daniel?\n",
            "[labels: office]\n",
            "[label_candidates: bedroom|hallway|garden|kitchen|bathroom|...and 1 more]\n",
            "~~\n",
            "[babi:task10k:1]: John went back to the garden.\n",
            "John moved to the bedroom.\n",
            "Where is Sandra?\n",
            "[labels: bathroom]\n",
            "[label_candidates: bedroom|hallway|garden|kitchen|bathroom|...and 1 more]\n",
            "- - - - - - - - - - - - - - - - - - - - -\n",
            "~~\n",
            "[babi:task10k:1]: Mary went to the bedroom.\n",
            "John journeyed to the bathroom.\n",
            "Where is John?\n",
            "[labels: bathroom]\n",
            "[label_candidates: bedroom|hallway|garden|kitchen|bathroom|...and 1 more]\n",
            "~~\n",
            "[babi:task10k:1]: Sandra journeyed to the hallway.\n",
            "John journeyed to the garden.\n",
            "Where is Mary?\n",
            "[labels: bedroom]\n",
            "[label_candidates: bedroom|hallway|garden|kitchen|bathroom|...and 1 more]\n",
            "~~\n",
            "[babi:task10k:1]: John journeyed to the bathroom.\n",
            "Sandra journeyed to the garden.\n",
            "Where is John?\n",
            "[labels: bathroom]\n",
            "[label_candidates: bedroom|hallway|garden|kitchen|bathroom|...and 1 more]\n",
            "~~\n",
            "[babi:task10k:1]: Sandra went back to the bedroom.\n",
            "Daniel travelled to the bathroom.\n",
            "Where is John?\n",
            "[labels: bathroom]\n",
            "[label_candidates: bedroom|hallway|garden|kitchen|bathroom|...and 1 more]\n",
            "~~\n",
            "[babi:task10k:1]: John went to the office.\n",
            "Mary moved to the office.\n",
            "Where is Sandra?\n",
            "[labels: bedroom]\n",
            "[label_candidates: bedroom|hallway|garden|kitchen|bathroom|...and 1 more]\n",
            "- - - - - - - - - - - - - - - - - - - - -\n",
            "~~\n",
            "[ loaded 1800 episodes with a total of 9000 examples ]\n"
          ],
          "name": "stdout"
        }
      ]
    },
    {
      "cell_type": "markdown",
      "metadata": {
        "colab_type": "text",
        "id": "TovRmKOA858i"
      },
      "source": [
        "## 2. Metrics"
      ]
    },
    {
      "cell_type": "markdown",
      "metadata": {
        "colab_type": "text",
        "id": "g9NV_vBlPSWP"
      },
      "source": [
        "The bAbI task 1 expects single word answers among a small set of possible answers.\n",
        "\n",
        "\n",
        "---\n",
        "**Question 2**  \n",
        "- **2.a.** Which metrics do you think are appropriate for evaluating a model on this task?   \n",
        "-  **2.b.**  What are their respective strengths?  \n",
        "-  **2.c.** When do they fail? (find specific examples)  \n",
        "\n",
        "\n",
        "*ANSWER HERE* \n",
        "\n",
        "**2.a.** F1-score \n",
        "\n",
        "(Rank-based metric : Since the order of predictions does matter. Even thought the predictions in this task is only one word but is good for general cases)\n",
        "\n",
        "**2.b.**  Strengths: takes into account how the data is distributed and useful when we have data with imbalance classes.\n",
        "\n",
        "**2.c.** F1-score fail when positive class is minority class, the score is quite sensitive when there is switching where the ground truth is positive.\n",
        "\n",
        "\n",
        "\n",
        "\n",
        "---"
      ]
    },
    {
      "cell_type": "markdown",
      "metadata": {
        "colab_type": "text",
        "id": "0_MZKCTW6fh9"
      },
      "source": [
        "## 3. Baseline\n",
        "\n"
      ]
    },
    {
      "cell_type": "markdown",
      "metadata": {
        "colab_type": "text",
        "id": "RSexIY71yiD6"
      },
      "source": [
        "We now have a clearer idea of the data distribution and the metrics that we can use.  \n",
        "The next step is to start solving the tasks with a simple baseline. This will allow us to compare more elaborate models agains this baseline.  \n",
        "Here are a few classical baselines:\n",
        "- **Random model**: The model answers randomly among the set of possible answers for each question\n",
        "-  **Majority class**: The model always answers with the most frequent answer in the training set (majority class)\n",
        "\n",
        "We are going to reimplement these own baselines.  \n",
        "Implementing a new model in ParlAI is detailed in the [tutorial](http://parl.ai/static/docs/seq2seq_tutorial.html) but for our simple baselines, we will only need to inherit the [Agent](https://github.com/facebookresearch/ParlAI/blob/6d246842d3f4e941dd3806f3d9fa62f607d48f59/parlai/core/agents.py#L50) class and override the `act()` method.\n",
        "\n",
        "---\n",
        "**Question 3**  \n",
        "- **3.a.** What would be the accuracy of a model that choses a random answer among the set of possible answers for each question? \n",
        "\n",
        "*ANSWER HERE*\n",
        "\n",
        "The accuracy of the model that choses a random answer among the set of possible answers for each question will be very low, I would say much more less than 50% because it choses the answer without any knowledge. The accuracy should be bad.\n",
        "\n",
        "---\n",
        "\n",
        "*Note: the `%%writefile` magic command in jupyter writes the content of the cell to a file at the given path.*"
      ]
    },
    {
      "cell_type": "code",
      "metadata": {
        "colab_type": "code",
        "id": "9ahmFL0Rk6g1",
        "colab": {}
      },
      "source": [
        "!mkdir -p ~/ParlAI/parlai/agents/baseline/\n",
        "!touch ~/ParlAI/parlai/agents/baseline/random.py\n",
        "!touch ~/ParlAI/parlai/agents/baseline/majorityclass.py"
      ],
      "execution_count": 0,
      "outputs": []
    },
    {
      "cell_type": "markdown",
      "metadata": {
        "colab_type": "text",
        "id": "mZLM7DtkkJN1"
      },
      "source": [
        "- **3.b.**  Design a baseline that answers a random word in the set of possible answer (run it multiple time to observe variance in results)."
      ]
    },
    {
      "cell_type": "code",
      "metadata": {
        "colab_type": "code",
        "id": "Zx4emBSPjmE-",
        "outputId": "22337bea-b541-42f5-ebf3-5d042c695392",
        "colab": {
          "base_uri": "https://localhost:8080/",
          "height": 34
        }
      },
      "source": [
        "# FILL THIS CELL\n",
        "# SOLUTION\n",
        "%%writefile ~/ParlAI/parlai/agents/baseline/random.py\n",
        "import random\n",
        "\n",
        "from parlai.core.torch_agent import Agent\n",
        "\n",
        "class RandomAgent(Agent):\n",
        "  \n",
        "    def act(self):\n",
        "        if 'label_candidates' not in self.observation:\n",
        "            return\n",
        "        candidates = list(self.observation['label_candidates'])\n",
        "        reply = {'text': candidates[random.randrange(len(candidates))]}\n",
        "        return reply"
      ],
      "execution_count": 0,
      "outputs": [
        {
          "output_type": "stream",
          "text": [
            "Overwriting /root/ParlAI/parlai/agents/baseline/random.py\n"
          ],
          "name": "stdout"
        }
      ]
    },
    {
      "cell_type": "code",
      "metadata": {
        "colab_type": "code",
        "id": "dMOWxgVj1Joz",
        "outputId": "b48bed3c-6477-4b17-aeb8-aa010c9bb7a5",
        "colab": {
          "base_uri": "https://localhost:8080/",
          "height": 34
        }
      },
      "source": [
        "!python ~/ParlAI/examples/eval_model.py -t babi:task10k:1 -m baseline/random | grep accuracy -A 1"
      ],
      "execution_count": 0,
      "outputs": [
        {
          "output_type": "stream",
          "text": [
            "{'exs': 1000, 'accuracy': 0.168, 'f1': 0.168, 'bleu': 1.68e-10}\n"
          ],
          "name": "stdout"
        }
      ]
    },
    {
      "cell_type": "code",
      "metadata": {
        "colab_type": "code",
        "id": "oVs3pOKE2-WE",
        "outputId": "13032f48-952f-416f-f650-0d0de2561e21",
        "colab": {
          "base_uri": "https://localhost:8080/",
          "height": 1000
        }
      },
      "source": [
        "!python ~/ParlAI/examples/display_model.py -t babi:task10k:1 -m baseline/random -n 10 "
      ],
      "execution_count": 0,
      "outputs": [
        {
          "output_type": "stream",
          "text": [
            "[ optional arguments: ] \n",
            "[  display_ignore_fields:  ]\n",
            "[  num_examples: 10 ]\n",
            "[ Main ParlAI Arguments: ] \n",
            "[  batchsize: 1 ]\n",
            "[  datapath: /root/ParlAI/data ]\n",
            "[  datatype: valid ]\n",
            "[  download_path: /root/ParlAI/downloads ]\n",
            "[  hide_labels: False ]\n",
            "[  image_mode: raw ]\n",
            "[  multitask_weights: [1] ]\n",
            "[  numthreads: 1 ]\n",
            "[  show_advanced_args: False ]\n",
            "[  task: babi:task10k:1 ]\n",
            "[ ParlAI Model Arguments: ] \n",
            "[  dict_class: None ]\n",
            "[  init_model: None ]\n",
            "[  model: baseline/random ]\n",
            "[  model_file: None ]\n",
            "[ ParlAI Image Preprocessing Arguments: ] \n",
            "[  image_cropsize: 224 ]\n",
            "[  image_size: 256 ]\n",
            "[creating task(s): babi:task10k:1]\n",
            "[loading fbdialog data:/root/ParlAI/data/bAbI/tasks_1-20_v1-2/en-valid-10k-nosf/qa1_valid.txt]\n",
            "[babi:task10k:1]: Sandra travelled to the office.\n",
            "Sandra went to the bathroom.\n",
            "Where is Sandra?\n",
            "[eval_labels: bathroom]\n",
            "[label_candidates: kitchen|bathroom|garden|hallway|bedroom|...and 1 more]\n",
            "   office\n",
            "~~\n",
            "[babi:task10k:1]: Mary went to the bedroom.\n",
            "Daniel moved to the hallway.\n",
            "Where is Sandra?\n",
            "[eval_labels: bathroom]\n",
            "[label_candidates: kitchen|bathroom|garden|hallway|bedroom|...and 1 more]\n",
            "   kitchen\n",
            "~~\n",
            "[babi:task10k:1]: John went to the garden.\n",
            "John travelled to the office.\n",
            "Where is Sandra?\n",
            "[eval_labels: bathroom]\n",
            "[label_candidates: kitchen|bathroom|garden|hallway|bedroom|...and 1 more]\n",
            "   kitchen\n",
            "~~\n",
            "[babi:task10k:1]: Daniel journeyed to the bedroom.\n",
            "Daniel travelled to the hallway.\n",
            "Where is John?\n",
            "[eval_labels: office]\n",
            "[label_candidates: kitchen|bathroom|garden|hallway|bedroom|...and 1 more]\n",
            "   office\n",
            "~~\n",
            "[babi:task10k:1]: John went to the bedroom.\n",
            "John travelled to the office.\n",
            "Where is Daniel?\n",
            "[eval_labels: hallway]\n",
            "[label_candidates: kitchen|bathroom|garden|hallway|bedroom|...and 1 more]\n",
            "   garden\n",
            "- - - - - - - - - - - - - - - - - - - - -\n",
            "~~\n",
            "[babi:task10k:1]: Sandra went back to the bathroom.\n",
            "Mary moved to the garden.\n",
            "Where is Mary?\n",
            "[eval_labels: garden]\n",
            "[label_candidates: kitchen|bathroom|garden|hallway|bedroom|...and 1 more]\n",
            "   bathroom\n",
            "~~\n",
            "[babi:task10k:1]: Mary went back to the hallway.\n",
            "Sandra went to the office.\n",
            "Where is Sandra?\n",
            "[eval_labels: office]\n",
            "[label_candidates: kitchen|bathroom|garden|hallway|bedroom|...and 1 more]\n",
            "   bathroom\n",
            "~~\n",
            "[babi:task10k:1]: John went back to the hallway.\n",
            "John travelled to the office.\n",
            "Where is Sandra?\n",
            "[eval_labels: office]\n",
            "[label_candidates: kitchen|bathroom|garden|hallway|bedroom|...and 1 more]\n",
            "   bathroom\n",
            "~~\n",
            "[babi:task10k:1]: Sandra journeyed to the hallway.\n",
            "Daniel moved to the office.\n",
            "Where is John?\n",
            "[eval_labels: office]\n",
            "[label_candidates: kitchen|bathroom|garden|hallway|bedroom|...and 1 more]\n",
            "   office\n",
            "~~\n",
            "[babi:task10k:1]: Mary went to the office.\n",
            "Sandra went to the office.\n",
            "Where is John?\n",
            "[eval_labels: office]\n",
            "[label_candidates: kitchen|bathroom|garden|hallway|bedroom|...and 1 more]\n",
            "   kitchen\n",
            "- - - - - - - - - - - - - - - - - - - - -\n",
            "~~\n"
          ],
          "name": "stdout"
        }
      ]
    },
    {
      "cell_type": "markdown",
      "metadata": {
        "colab_type": "text",
        "id": "3UnE4oVakR4k"
      },
      "source": [
        "- **3.c.**  Design a baseline that answers the most common answer every time (majority class baseline)."
      ]
    },
    {
      "cell_type": "code",
      "metadata": {
        "colab_type": "code",
        "id": "hHIV2NUzGzQc",
        "outputId": "710fda21-5664-4b64-f063-dd4fc924616c",
        "colab": {
          "base_uri": "https://localhost:8080/",
          "height": 34
        }
      },
      "source": [
        "# SOLUTION\n",
        "%%writefile ~/ParlAI/parlai/agents/baseline/majorityclass.py\n",
        "import random\n",
        "\n",
        "from parlai.core.torch_agent import Agent\n",
        "\n",
        "\n",
        "class MajorityclassAgent(Agent):\n",
        "  \n",
        "    def act(self):\n",
        "        if 'label_candidates' not in self.observation:\n",
        "            return\n",
        "        candidates = list(self.observation['label_candidates'])\n",
        "        reply = {'text': 'bathroom'}\n",
        "        return reply"
      ],
      "execution_count": 0,
      "outputs": [
        {
          "output_type": "stream",
          "text": [
            "Overwriting /root/ParlAI/parlai/agents/baseline/majorityclass.py\n"
          ],
          "name": "stdout"
        }
      ]
    },
    {
      "cell_type": "code",
      "metadata": {
        "colab_type": "code",
        "id": "U34z6bx0lJV9",
        "outputId": "162fdb22-e2f6-43ad-d1fc-b07ab3c6b2c1",
        "colab": {
          "base_uri": "https://localhost:8080/",
          "height": 34
        }
      },
      "source": [
        "!python ~/ParlAI/examples/eval_model.py -t babi:task10k:1 -m baseline/majorityclass | grep accuracy -A 1"
      ],
      "execution_count": 0,
      "outputs": [
        {
          "output_type": "stream",
          "text": [
            "{'exs': 1000, 'accuracy': 0.169, 'f1': 0.169, 'bleu': 1.69e-10}\n"
          ],
          "name": "stdout"
        }
      ]
    },
    {
      "cell_type": "code",
      "metadata": {
        "colab_type": "code",
        "id": "X8LHkfUS3AL0",
        "outputId": "65ab6a1b-3291-4c18-e8e8-7edeaf198794",
        "colab": {
          "base_uri": "https://localhost:8080/",
          "height": 1000
        }
      },
      "source": [
        "!python ~/ParlAI/examples/display_model.py -t babi:task10k:1 -m baseline/majorityclass -n 10"
      ],
      "execution_count": 0,
      "outputs": [
        {
          "output_type": "stream",
          "text": [
            "[ optional arguments: ] \n",
            "[  display_ignore_fields:  ]\n",
            "[  num_examples: 10 ]\n",
            "[ Main ParlAI Arguments: ] \n",
            "[  batchsize: 1 ]\n",
            "[  datapath: /root/ParlAI/data ]\n",
            "[  datatype: valid ]\n",
            "[  download_path: /root/ParlAI/downloads ]\n",
            "[  hide_labels: False ]\n",
            "[  image_mode: raw ]\n",
            "[  multitask_weights: [1] ]\n",
            "[  numthreads: 1 ]\n",
            "[  show_advanced_args: False ]\n",
            "[  task: babi:task10k:1 ]\n",
            "[ ParlAI Model Arguments: ] \n",
            "[  dict_class: None ]\n",
            "[  init_model: None ]\n",
            "[  model: baseline/majorityclass ]\n",
            "[  model_file: None ]\n",
            "[ ParlAI Image Preprocessing Arguments: ] \n",
            "[  image_cropsize: 224 ]\n",
            "[  image_size: 256 ]\n",
            "[creating task(s): babi:task10k:1]\n",
            "[loading fbdialog data:/root/ParlAI/data/bAbI/tasks_1-20_v1-2/en-valid-10k-nosf/qa1_valid.txt]\n",
            "[babi:task10k:1]: Sandra travelled to the office.\n",
            "Sandra went to the bathroom.\n",
            "Where is Sandra?\n",
            "[label_candidates: bathroom|kitchen|bedroom|office|garden|...and 1 more]\n",
            "[eval_labels: bathroom]\n",
            "   bathroom\n",
            "~~\n",
            "[babi:task10k:1]: Mary went to the bedroom.\n",
            "Daniel moved to the hallway.\n",
            "Where is Sandra?\n",
            "[label_candidates: bathroom|kitchen|bedroom|office|garden|...and 1 more]\n",
            "[eval_labels: bathroom]\n",
            "   bathroom\n",
            "~~\n",
            "[babi:task10k:1]: John went to the garden.\n",
            "John travelled to the office.\n",
            "Where is Sandra?\n",
            "[label_candidates: bathroom|kitchen|bedroom|office|garden|...and 1 more]\n",
            "[eval_labels: bathroom]\n",
            "   bathroom\n",
            "~~\n",
            "[babi:task10k:1]: Daniel journeyed to the bedroom.\n",
            "Daniel travelled to the hallway.\n",
            "Where is John?\n",
            "[label_candidates: bathroom|kitchen|bedroom|office|garden|...and 1 more]\n",
            "[eval_labels: office]\n",
            "   bathroom\n",
            "~~\n",
            "[babi:task10k:1]: John went to the bedroom.\n",
            "John travelled to the office.\n",
            "Where is Daniel?\n",
            "[label_candidates: bathroom|kitchen|bedroom|office|garden|...and 1 more]\n",
            "[eval_labels: hallway]\n",
            "   bathroom\n",
            "- - - - - - - - - - - - - - - - - - - - -\n",
            "~~\n",
            "[babi:task10k:1]: Sandra went back to the bathroom.\n",
            "Mary moved to the garden.\n",
            "Where is Mary?\n",
            "[label_candidates: bathroom|kitchen|bedroom|office|garden|...and 1 more]\n",
            "[eval_labels: garden]\n",
            "   bathroom\n",
            "~~\n",
            "[babi:task10k:1]: Mary went back to the hallway.\n",
            "Sandra went to the office.\n",
            "Where is Sandra?\n",
            "[label_candidates: bathroom|kitchen|bedroom|office|garden|...and 1 more]\n",
            "[eval_labels: office]\n",
            "   bathroom\n",
            "~~\n",
            "[babi:task10k:1]: John went back to the hallway.\n",
            "John travelled to the office.\n",
            "Where is Sandra?\n",
            "[label_candidates: bathroom|kitchen|bedroom|office|garden|...and 1 more]\n",
            "[eval_labels: office]\n",
            "   bathroom\n",
            "~~\n",
            "[babi:task10k:1]: Sandra journeyed to the hallway.\n",
            "Daniel moved to the office.\n",
            "Where is John?\n",
            "[label_candidates: bathroom|kitchen|bedroom|office|garden|...and 1 more]\n",
            "[eval_labels: office]\n",
            "   bathroom\n",
            "~~\n",
            "[babi:task10k:1]: Mary went to the office.\n",
            "Sandra went to the office.\n",
            "Where is John?\n",
            "[label_candidates: bathroom|kitchen|bedroom|office|garden|...and 1 more]\n",
            "[eval_labels: office]\n",
            "   bathroom\n",
            "- - - - - - - - - - - - - - - - - - - - -\n",
            "~~\n"
          ],
          "name": "stdout"
        }
      ]
    },
    {
      "cell_type": "markdown",
      "metadata": {
        "colab_type": "text",
        "id": "BOW4ZTSekWt9"
      },
      "source": [
        "---\n",
        "- **3.d.**  In which cases would the majority class baseline be better than the random baseline?\n",
        "\n",
        "*ANSWER HERE*\n",
        "\n",
        "The majority class baseline will be better than the random baseline in the cas where the majority of the test dataset  have answer the most common answer every time.\n",
        "\n",
        "---"
      ]
    },
    {
      "cell_type": "markdown",
      "metadata": {
        "colab_type": "text",
        "id": "layL9aTK_D1a"
      },
      "source": [
        "Another slightly more advanced baseline is implemented in ParlAI: the information retrieval baseline (`ir_baseline`)\n",
        "\n",
        "---\n",
        "- **3.e.** Look at the [implementation](https://github.com/facebookresearch/ParlAI/blob/53ea58acf389bffc79c85c43bcdd848eecdcecb4/parlai/agents/ir_baseline/ir_baseline.py#L211) of the IR baseline and explain in a few lines how it works (*hint: look at the following methods `act()` `rank_candidates()`  `score_match()`*)  \n",
        "\n",
        "*ANSWER HERE*\n",
        "\n",
        "The Information Retrieval baseline line ordered the list of candidate strings in score-ranked order and generate a response to the previously seen observation. If label candidates are provided in the task, it simply ranks them according to their similarity to the input message.\n",
        "\n",
        "\n",
        "---"
      ]
    },
    {
      "cell_type": "markdown",
      "metadata": {
        "colab_type": "text",
        "id": "oKo6zJHwksKA"
      },
      "source": [
        "- **3.f.** Use the IR baseline and compare its with one of your baselines (random and/or majority) on bAbI tasks 1, 2 and 3.  \n",
        "    (*hint: you can use `!python ... -t babi:task1-k:{i+1}` syntax to substitute the task number in a bash command from jupyter*)\n"
      ]
    },
    {
      "cell_type": "code",
      "metadata": {
        "colab_type": "code",
        "id": "EzBAEWP7k10U",
        "outputId": "3c79860e-2bd9-42a1-cb3d-a69ae064c1f5",
        "colab": {
          "base_uri": "https://localhost:8080/",
          "height": 328
        }
      },
      "source": [
        "# FILL THIS CELL\n",
        "# SOLUTION\n",
        "for i in range(3):\n",
        "    print(f'~ Task {i+1} ~')\n",
        "    print('Random baseline:')\n",
        "    !python ~/ParlAI/examples/eval_model.py -t babi:task10k:{i+1} -m baseline/random | grep accuracy\n",
        "    if i == 0:  # Majority class was only computed for the first task (it might be something else than bathroom for task 2 and 3)\n",
        "        print('Majority class baseline:')\n",
        "        !python ~/ParlAI/examples/eval_model.py -t babi:task10k:{i+1} -m baseline/majorityclass | grep accuracy\n",
        "    print('IR baseline:')\n",
        "    !python ~/ParlAI/examples/eval_model.py -t babi:task10k:{i+1} -m ir_baseline | grep accuracy"
      ],
      "execution_count": 0,
      "outputs": [
        {
          "output_type": "stream",
          "text": [
            "~ Task 1 ~\n",
            "Random baseline:\n",
            "{'exs': 1000, 'accuracy': 0.17, 'f1': 0.17, 'bleu': 1.7e-10}\n",
            "Majority class baseline:\n",
            "{'exs': 1000, 'accuracy': 0.169, 'f1': 0.169, 'bleu': 1.69e-10}\n",
            "IR baseline:\n",
            "{'exs': 1000, 'accuracy': 0.465, 'f1': 0.465, 'hits@1': 0.465, 'hits@5': 0.961, 'hits@10': 1.0, 'hits@100': 1.0, 'bleu': 4.65e-10}\n",
            "~ Task 2 ~\n",
            "Random baseline:\n",
            "{'exs': 1000, 'accuracy': 0.166, 'f1': 0.166, 'bleu': 1.66e-10}\n",
            "IR baseline:\n",
            "{'exs': 1000, 'accuracy': 0.284, 'f1': 0.284, 'hits@1': 0.284, 'hits@5': 0.9, 'hits@10': 1.0, 'hits@100': 1.0, 'bleu': 2.84e-10}\n",
            "~ Task 3 ~\n",
            "Random baseline:\n",
            "{'exs': 1000, 'accuracy': 0.184, 'f1': 0.184, 'bleu': 1.84e-10}\n",
            "IR baseline:\n",
            "{'exs': 1000, 'accuracy': 0.132, 'f1': 0.132, 'hits@1': 0.132, 'hits@5': 0.836, 'hits@10': 1.0, 'hits@100': 1.0, 'bleu': 1.32e-10}\n"
          ],
          "name": "stdout"
        }
      ]
    },
    {
      "cell_type": "markdown",
      "metadata": {
        "colab_type": "text",
        "id": "xZGFSbEwJdvx"
      },
      "source": [
        "## 4. More elaborate models\n",
        "\n"
      ]
    },
    {
      "cell_type": "markdown",
      "metadata": {
        "colab_type": "text",
        "id": "wj7onBcoyoZz"
      },
      "source": [
        "We can now continue to more elaborate models and evaluate their performance in perspective to the baselines.\n",
        "We will use the `~/ParlAI/examples/train_model.py` script. Let's first get a glance at its arguments:"
      ]
    },
    {
      "cell_type": "code",
      "metadata": {
        "colab_type": "code",
        "id": "gZa5Xl5Bxxxe",
        "outputId": "0c3f8ccc-12ce-4fd6-bf05-8c3509c6af25",
        "colab": {
          "base_uri": "https://localhost:8080/",
          "height": 1000
        }
      },
      "source": [
        "!python ~/ParlAI/examples/train_model.py --help"
      ],
      "execution_count": 0,
      "outputs": [
        {
          "output_type": "stream",
          "text": [
            "usage: train_model.py [-h] [-v] [-t TASK]\n",
            "                      [-dt {train,train:stream,train:ordered,train:ordered:stream,train:stream:ordered,train:evalmode,train:evalmode:stream,train:evalmode:ordered,train:evalmode:ordered:stream,train:evalmode:stream:ordered,valid,valid:stream,test,test:stream}]\n",
            "                      [-nt NUMTHREADS] [-bs BATCHSIZE] [-dp DATAPATH] [-m MODEL] [-mf MODEL_FILE] [-im INIT_MODEL] [-et EVALTASK]\n",
            "                      [-eps NUM_EPOCHS] [-ttim MAX_TRAIN_TIME] [-vtim VALIDATION_EVERY_N_SECS] [-stim SAVE_EVERY_N_SECS]\n",
            "                      [-sval SAVE_AFTER_VALID] [-veps VALIDATION_EVERY_N_EPOCHS] [-vp VALIDATION_PATIENCE]\n",
            "                      [-vmt VALIDATION_METRIC] [-vmm {max,min}] [-pyt PYTORCH_TEACHER_TASK] [-pytd PYTORCH_TEACHER_DATASET]\n",
            "\n",
            "Train a model\n",
            "\n",
            "optional arguments:\n",
            "  -h, --help\n",
            "        show this help message and exit\n",
            "\n",
            "Main ParlAI Arguments:\n",
            "  -v, --show-advanced-args\n",
            "        Show hidden command line options (advanced users only) (default: False)\n",
            "  -t, --task TASK\n",
            "        ParlAI task(s), e.g. \"babi:Task1\" or \"babi,cbt\" (default: None)\n",
            "  -dt, --datatype {train,train:stream,train:ordered,train:ordered:stream,train:stream:ordered,train:evalmode,train:evalmode:stream,train:evalmode:ordered,train:evalmode:ordered:stream,train:evalmode:stream:ordered,valid,valid:stream,test,test:stream}\n",
            "        choose from: train, train:ordered, valid, test. to stream data add \":stream\" to any option (e.g., train:stream). by\n",
            "        default: train is random with replacement, valid is ordered, test is ordered. (default: train)\n",
            "  -nt, --numthreads NUMTHREADS\n",
            "        number of threads. Used for hogwild if batchsize is 1, else for number of threads in threadpool loading, (default: 1)\n",
            "  -bs, --batchsize BATCHSIZE\n",
            "        batch size for minibatch training schemes (default: 1)\n",
            "  -dp, --datapath DATAPATH\n",
            "        path to datasets, defaults to {parlai_dir}/data (default: /root/ParlAI/data)\n",
            "\n",
            "ParlAI Model Arguments:\n",
            "  -m, --model MODEL\n",
            "        the model class name. can match parlai/agents/<model> for agents in that directory, or can provide a fully specified\n",
            "        module for `from X import Y` via `-m X:Y` (e.g. `-m parlai.agents.seq2seq.seq2seq:Seq2SeqAgent`) (default: None)\n",
            "  -mf, --model-file MODEL_FILE\n",
            "        model file name for loading and saving models (default: None)\n",
            "  -im, --init-model INIT_MODEL\n",
            "        load model weights and dict from this file (default: None)\n",
            "\n",
            "Training Loop Arguments:\n",
            "  -et, --evaltask EVALTASK\n",
            "        task to use for valid/test (defaults to the one used for training if not set) (default: None)\n",
            "  -eps, --num-epochs NUM_EPOCHS\n",
            "  -ttim, --max-train-time MAX_TRAIN_TIME\n",
            "  -vtim, --validation-every-n-secs VALIDATION_EVERY_N_SECS\n",
            "        Validate every n seconds. Saves model to model_file (if set) whenever best val metric is found (default: -1)\n",
            "  -stim, --save-every-n-secs SAVE_EVERY_N_SECS\n",
            "        Saves the model to model_file.checkpoint after every n seconds (default -1, never). (default: -1)\n",
            "  -sval, --save-after-valid SAVE_AFTER_VALID\n",
            "        Saves the model to model_file.checkpoint after every validation (default False).\n",
            "  -veps, --validation-every-n-epochs VALIDATION_EVERY_N_EPOCHS\n",
            "        Validate every n epochs. Saves model to model_file (if set) whenever best val metric is found (default: -1)\n",
            "  -vp, --validation-patience VALIDATION_PATIENCE\n",
            "        number of iterations of validation where result does not improve before we stop training (default: 10)\n",
            "  -vmt, --validation-metric VALIDATION_METRIC\n",
            "        key into report table for selecting best validation (default: accuracy)\n",
            "  -vmm, --validation-metric-mode {max,min}\n",
            "        how to optimize validation metric (max or min) (default: None)\n",
            "\n",
            "PytorchData Arguments:\n",
            "  -pyt, --pytorch-teacher-task PYTORCH_TEACHER_TASK\n",
            "        Use the PytorchDataTeacher for multiprocessed data loading with a standard ParlAI task, e.g. \"babi:Task1k\" (default: None)\n",
            "  -pytd, --pytorch-teacher-dataset PYTORCH_TEACHER_DATASET\n",
            "        Use the PytorchDataTeacher for multiprocessed data loading with a pytorch Dataset, e.g. \"vqa_1\" or \"flickr30k\" (default:\n",
            "        None)\n"
          ],
          "name": "stdout"
        }
      ]
    },
    {
      "cell_type": "markdown",
      "metadata": {
        "colab_type": "text",
        "id": "s2apZUNj6JrS"
      },
      "source": [
        "We can train two types of models:\n",
        "- **Generative models**: The model generates an answer from its vocabulary.\n",
        "- **Ranking models**: The model is given a list of possible answers and has to choose the correct answer. This is much easier for the model since the list of possible answers is often way smaller than the size of the vocabulary\n"
      ]
    },
    {
      "cell_type": "markdown",
      "metadata": {
        "colab_type": "text",
        "id": "HdBwoP2K36DH"
      },
      "source": [
        "### Generative model: seq2seq with attention\n",
        "\n",
        "The generative model we are going to train is a sequence to sequence model with attention based on [Sustskever et al. 2014](https://arxiv.org/abs/1409.3215) and [Bahdanau et al. 2014](https://arxiv.org/abs/1409.0473).\n",
        "      \n",
        "- **4.a.** Briefly explain how attention works in sequence to sequence neural networks.\n",
        "- **4.b.** Do you think attention is useful for the babi tasks? How would you verify it experimentally?\n",
        "\n",
        "*ANSWER HERE*\n",
        "\n",
        "\n",
        "**4.a.** The seq2seq models is normally composed of an encoder-decoder architecture, where the encoder processes the input sequence and encodes/compresses/summarizes the information into a context vector of a fixed length. \n",
        "\n",
        "A critical disadvantage of this fixed-length context vector design is the incapability of the system to remember longer sequences. Often is has forgotten the earlier parts of the sequence once it has processed the entire the sequence. The attention mechanism was born to resolve this problem.\n",
        "\n",
        "The central idea behind Attention is  to utilize all the states in order to construct the context vectors required by the decoder to generate the output sequence.\n",
        "\n",
        "This is done in some few step:\n",
        "-  Compute a score each encoder state\n",
        "-  Compute the attention weights\n",
        "-  Compute the context vector\n",
        "-  Concatenate context vector with output of previous time step\n",
        "-  Decoder Output\n",
        "\n",
        "**4.b.** Yes attention is useful for the babi tasks. [Arushi Raghuvanshi and Patrick Chase](https://cs224d.stanford.edu/reports/RaghuvanshiChase.pdf) were able to build a demo to visualize the attention placed on different input sentences in the episodic memory\n",
        "module, and show that the model places it’s attention on the correct sentences for a variety of different tasks even without any explicit attention feedback during training. They also experiment with training a model to accomplish more than one babi task at the same time.\n",
        "\n",
        "---\n",
        "- **4.c.** Train a seq2seq on bAbI task 1 (10k) and compare its results to the baselines.\n",
        "   (*hint: for faster training use the following arguments `--batchsize 32 --numthreads 1 --num-epochs 5 --hiddensize 64 --embeddingsize 64 --numlayers 1 --decoder shared`)\n"
      ]
    },
    {
      "cell_type": "code",
      "metadata": {
        "colab_type": "code",
        "id": "VIpwQj4NpY5s",
        "outputId": "bdda0c71-1b89-417d-9cdf-fb3ecad2cfa2",
        "colab": {
          "base_uri": "https://localhost:8080/",
          "height": 1000
        }
      },
      "source": [
        "# FILL THIS CELL\n",
        "# SOLUTION\n",
        "!python ~/ParlAI/examples/train_model.py --task babi:task10k:1 --model seq2seq  --model-file /tmp/babi_s2s --batchsize 32 --numthreads 1 --num-epochs 5 --hiddensize 64 --embeddingsize 64 --numlayers 1 --decoder shared"
      ],
      "execution_count": 0,
      "outputs": [
        {
          "output_type": "stream",
          "text": [
            "[ Main ParlAI Arguments: ] \n",
            "[  batchsize: 32 ]\n",
            "[  datapath: /root/ParlAI/data ]\n",
            "[  datatype: train ]\n",
            "[  download_path: /root/ParlAI/downloads ]\n",
            "[  hide_labels: False ]\n",
            "[  image_mode: raw ]\n",
            "[  multitask_weights: [1] ]\n",
            "[  numthreads: 1 ]\n",
            "[  show_advanced_args: False ]\n",
            "[  task: babi:task10k:1 ]\n",
            "[ ParlAI Model Arguments: ] \n",
            "[  dict_class: parlai.core.dict:DictionaryAgent ]\n",
            "[  init_model: None ]\n",
            "[  model: seq2seq ]\n",
            "[  model_file: /tmp/babi_s2s ]\n",
            "[ Training Loop Arguments: ] \n",
            "[  dict_build_first: True ]\n",
            "[  display_examples: False ]\n",
            "[  eval_batchsize: None ]\n",
            "[  evaltask: None ]\n",
            "[  load_from_checkpoint: False ]\n",
            "[  max_train_time: -1 ]\n",
            "[  num_epochs: 5.0 ]\n",
            "[  save_after_valid: False ]\n",
            "[  save_every_n_secs: -1 ]\n",
            "[  validation_cutoff: 1.0 ]\n",
            "[  validation_every_n_epochs: -1 ]\n",
            "[  validation_every_n_secs: -1 ]\n",
            "[  validation_max_exs: -1 ]\n",
            "[  validation_metric: accuracy ]\n",
            "[  validation_metric_mode: None ]\n",
            "[  validation_patience: 10 ]\n",
            "[  validation_share_agent: False ]\n",
            "[ Tensorboard Arguments: ] \n",
            "[  tensorboard_comment:  ]\n",
            "[  tensorboard_log: False ]\n",
            "[  tensorboard_metrics: None ]\n",
            "[  tensorboard_tag: None ]\n",
            "[ PytorchData Arguments: ] \n",
            "[  batch_length_range: 5 ]\n",
            "[  batch_sort_cache_type: pop ]\n",
            "[  batch_sort_field: text ]\n",
            "[  numworkers: 4 ]\n",
            "[  pytorch_context_length: -1 ]\n",
            "[  pytorch_datapath: None ]\n",
            "[  pytorch_include_labels: True ]\n",
            "[  pytorch_preprocess: False ]\n",
            "[  pytorch_teacher_batch_sort: False ]\n",
            "[  pytorch_teacher_dataset: None ]\n",
            "[  pytorch_teacher_task: None ]\n",
            "[  shuffle: False ]\n",
            "[ Dictionary Loop Arguments: ] \n",
            "[  dict_include_test: False ]\n",
            "[  dict_include_valid: False ]\n",
            "[  dict_maxexs: -1 ]\n",
            "[  log_every_n_secs: 2 ]\n",
            "[ ParlAI Image Preprocessing Arguments: ] \n",
            "[  image_cropsize: 224 ]\n",
            "[  image_size: 256 ]\n",
            "[ Seq2Seq Arguments: ] \n",
            "[  attention: none ]\n",
            "[  attention_length: 48 ]\n",
            "[  attention_time: post ]\n",
            "[  bidirectional: False ]\n",
            "[  decoder: shared ]\n",
            "[  dropout: 0.1 ]\n",
            "[  embeddingsize: 64 ]\n",
            "[  hiddensize: 64 ]\n",
            "[  input_dropout: 0.0 ]\n",
            "[  lookuptable: unique ]\n",
            "[  numlayers: 1 ]\n",
            "[  numsoftmax: 1 ]\n",
            "[  rnn_class: lstm ]\n",
            "[ Torch Generator Agent: ] \n",
            "[  beam_block_ngram: 0 ]\n",
            "[  beam_dot_log: False ]\n",
            "[  beam_min_length: 1 ]\n",
            "[  beam_min_n_best: 3 ]\n",
            "[  beam_size: 1 ]\n",
            "[  skip_generation: False ]\n",
            "[ TorchAgent Arguments: ] \n",
            "[  add_p1_after_newln: False ]\n",
            "[  betas: (0.9, 0.999) ]\n",
            "[  delimiter: \n",
            " ]\n",
            "[  embedding_projection: random ]\n",
            "[  embedding_type: random ]\n",
            "[  gpu: -1 ]\n",
            "[  gradient_clip: 0.1 ]\n",
            "[  history_size: -1 ]\n",
            "[  label_truncate: None ]\n",
            "[  learningrate: 1 ]\n",
            "[  lr_scheduler: reduceonplateau ]\n",
            "[  lr_scheduler_decay: 0.5 ]\n",
            "[  lr_scheduler_patience: 3 ]\n",
            "[  momentum: 0 ]\n",
            "[  nesterov: True ]\n",
            "[  no_cuda: False ]\n",
            "[  nus: (0.7,) ]\n",
            "[  optimizer: sgd ]\n",
            "[  person_tokens: False ]\n",
            "[  rank_candidates: False ]\n",
            "[  split_lines: False ]\n",
            "[  text_truncate: None ]\n",
            "[  truncate: -1 ]\n",
            "[  update_freq: -1 ]\n",
            "[  use_reply: label ]\n",
            "[  warmup_rate: 0.0001 ]\n",
            "[  warmup_updates: -1 ]\n",
            "[ Dictionary Arguments: ] \n",
            "[  bpe_debug: False ]\n",
            "[  dict_endtoken: __end__ ]\n",
            "[  dict_file: None ]\n",
            "[  dict_initpath: None ]\n",
            "[  dict_language: english ]\n",
            "[  dict_lower: False ]\n",
            "[  dict_max_ngram_size: -1 ]\n",
            "[  dict_maxtokens: -1 ]\n",
            "[  dict_minfreq: 0 ]\n",
            "[  dict_nulltoken: __null__ ]\n",
            "[  dict_starttoken: __start__ ]\n",
            "[  dict_textfields: text,labels ]\n",
            "[  dict_tokenizer: re ]\n",
            "[  dict_unktoken: __unk__ ]\n",
            "[ building dictionary first... ]\n",
            "[creating task(s): babi:task10k:1]\n",
            "[ running dictionary over data.. ]\n",
            "Building dictionary:   0% 0.00/9.00k [00:00<?, ?ex/s][loading fbdialog data:/root/ParlAI/data/bAbI/tasks_1-20_v1-2/en-valid-10k-nosf/qa1_train.txt]\n",
            "Building dictionary:  86% 7.77k/9.00k [00:00<00:00, 25.8kex/s][loading fbdialog data:/root/ParlAI/data/bAbI/tasks_1-20_v1-2/en-valid-10k-nosf/qa1_train.txt]\n",
            "Building dictionary: 100% 9.00k/9.00k [00:00<00:00, 25.9kex/s]\n",
            "Dictionary: saving dictionary to /tmp/babi_s2s.dict\n",
            "[ dictionary built with 26 tokens in 0s ]\n",
            "[ no model with opt yet at: /tmp/babi_s2s(.opt) ]\n",
            "Dictionary: loading dictionary from /tmp/babi_s2s.dict\n",
            "[ num words =  26 ]\n",
            "/usr/local/lib/python3.6/dist-packages/torch/nn/_reduction.py:43: UserWarning: size_average and reduce args will be deprecated, please use reduction='sum' instead.\n",
            "  warnings.warn(warning.format(ret))\n",
            "[creating task(s): babi:task10k:1]\n",
            "[loading fbdialog data:/root/ParlAI/data/bAbI/tasks_1-20_v1-2/en-valid-10k-nosf/qa1_train.txt]\n",
            "[ training... ]\n",
            "[ time:2.0s total_exs:608 epochs:0.07 time_left:152.0s ] {'exs': 608, 'lr': 1, 'num_updates': 19, 'loss': 33.4, 'token_acc': 0.4646, 'nll_loss': 1.758, 'ppl': 5.799}\n",
            "[ time:4.0s total_exs:1248 epochs:0.14 time_left:144.0s ] {'exs': 640, 'lr': 1, 'num_updates': 39, 'loss': 21.25, 'token_acc': 0.5828, 'nll_loss': 1.063, 'ppl': 2.894}\n",
            "[ time:6.0s total_exs:1888 epochs:0.21 time_left:140.0s ] {'exs': 640, 'lr': 1, 'num_updates': 59, 'loss': 20.47, 'token_acc': 0.5758, 'nll_loss': 1.023, 'ppl': 2.782}\n",
            "[ time:8.0s total_exs:2528 epochs:0.28 time_left:137.0s ] {'exs': 640, 'lr': 1, 'num_updates': 79, 'loss': 19.23, 'token_acc': 0.6117, 'nll_loss': 0.9614, 'ppl': 2.615}\n",
            "[ time:10.0s total_exs:3168 epochs:0.35 time_left:134.0s ] {'exs': 640, 'lr': 1, 'num_updates': 99, 'loss': 19.66, 'token_acc': 0.5859, 'nll_loss': 0.9831, 'ppl': 2.673}\n",
            "[ time:12.0s total_exs:3808 epochs:0.42 time_left:132.0s ] {'exs': 640, 'lr': 1, 'num_updates': 119, 'loss': 19.7, 'token_acc': 0.5844, 'nll_loss': 0.985, 'ppl': 2.678}\n",
            "[ time:14.0s total_exs:4448 epochs:0.49 time_left:130.0s ] {'exs': 640, 'lr': 1, 'num_updates': 139, 'loss': 19.6, 'token_acc': 0.5875, 'nll_loss': 0.98, 'ppl': 2.664}\n",
            "[ time:16.0s total_exs:5088 epochs:0.57 time_left:128.0s ] {'exs': 640, 'lr': 1, 'num_updates': 159, 'loss': 19.43, 'token_acc': 0.5938, 'nll_loss': 0.9714, 'ppl': 2.642}\n",
            "[ time:18.0s total_exs:5728 epochs:0.64 time_left:126.0s ] {'exs': 640, 'lr': 1, 'num_updates': 179, 'loss': 18.87, 'token_acc': 0.5961, 'nll_loss': 0.9435, 'ppl': 2.569}\n",
            "[ time:20.0s total_exs:6368 epochs:0.71 time_left:124.0s ] {'exs': 640, 'lr': 1, 'num_updates': 199, 'loss': 19.2, 'token_acc': 0.5883, 'nll_loss': 0.9602, 'ppl': 2.612}\n",
            "[ time:22.0s total_exs:7008 epochs:0.78 time_left:122.0s ] {'exs': 640, 'lr': 1, 'num_updates': 219, 'loss': 18.8, 'token_acc': 0.6125, 'nll_loss': 0.9401, 'ppl': 2.56}\n",
            "[ time:24.0s total_exs:7648 epochs:0.85 time_left:120.0s ] {'exs': 640, 'lr': 1, 'num_updates': 239, 'loss': 18.25, 'token_acc': 0.6211, 'nll_loss': 0.9127, 'ppl': 2.491}\n",
            "[ time:26.0s total_exs:8288 epochs:0.92 time_left:118.0s ] {'exs': 640, 'lr': 1, 'num_updates': 259, 'loss': 18.19, 'token_acc': 0.6195, 'nll_loss': 0.9095, 'ppl': 2.483}\n",
            "[ time:28.0s total_exs:8928 epochs:0.99 time_left:116.0s ] {'exs': 640, 'lr': 1, 'num_updates': 279, 'loss': 17.86, 'token_acc': 0.6414, 'nll_loss': 0.893, 'ppl': 2.442}\n",
            "[ time:30.0s total_exs:9568 epochs:1.06 time_left:114.0s ] {'exs': 640, 'lr': 1, 'num_updates': 299, 'loss': 17.91, 'token_acc': 0.6367, 'nll_loss': 0.8955, 'ppl': 2.448}\n",
            "[ time:32.0s total_exs:10208 epochs:1.13 time_left:112.0s ] {'exs': 640, 'lr': 1, 'num_updates': 319, 'loss': 17.49, 'token_acc': 0.6297, 'nll_loss': 0.8744, 'ppl': 2.397}\n",
            "[ time:34.0s total_exs:10848 epochs:1.21 time_left:110.0s ] {'exs': 640, 'lr': 1, 'num_updates': 339, 'loss': 17.6, 'token_acc': 0.6422, 'nll_loss': 0.8801, 'ppl': 2.411}\n",
            "[ time:36.0s total_exs:11488 epochs:1.28 time_left:108.0s ] {'exs': 640, 'lr': 1, 'num_updates': 359, 'loss': 17.49, 'token_acc': 0.6312, 'nll_loss': 0.8747, 'ppl': 2.398}\n",
            "[ time:38.0s total_exs:12128 epochs:1.35 time_left:106.0s ] {'exs': 640, 'lr': 1, 'num_updates': 379, 'loss': 17.48, 'token_acc': 0.6445, 'nll_loss': 0.8738, 'ppl': 2.396}\n",
            "[ time:40.0s total_exs:12768 epochs:1.42 time_left:104.0s ] {'exs': 640, 'lr': 1, 'num_updates': 399, 'loss': 16.62, 'token_acc': 0.6664, 'nll_loss': 0.831, 'ppl': 2.296}\n",
            "[ time:43.0s total_exs:13408 epochs:1.49 time_left:102.0s ] {'exs': 640, 'lr': 1, 'num_updates': 419, 'loss': 16.84, 'token_acc': 0.6656, 'nll_loss': 0.8419, 'ppl': 2.321}\n",
            "[ time:45.0s total_exs:14048 epochs:1.56 time_left:100.0s ] {'exs': 640, 'lr': 1, 'num_updates': 439, 'loss': 16.42, 'token_acc': 0.6906, 'nll_loss': 0.8209, 'ppl': 2.273}\n",
            "[ time:47.0s total_exs:14688 epochs:1.63 time_left:98.0s ] {'exs': 640, 'lr': 1, 'num_updates': 459, 'loss': 16.45, 'token_acc': 0.6937, 'nll_loss': 0.8225, 'ppl': 2.276}\n",
            "[ time:49.0s total_exs:15328 epochs:1.7 time_left:96.0s ] {'exs': 640, 'lr': 1, 'num_updates': 479, 'loss': 15.97, 'token_acc': 0.6961, 'nll_loss': 0.7986, 'ppl': 2.222}\n",
            "[ time:51.0s total_exs:15968 epochs:1.77 time_left:94.0s ] {'exs': 640, 'lr': 1, 'num_updates': 499, 'loss': 16.3, 'token_acc': 0.6992, 'nll_loss': 0.8148, 'ppl': 2.259}\n",
            "[ time:53.0s total_exs:16608 epochs:1.85 time_left:92.0s ] {'exs': 640, 'lr': 1, 'num_updates': 519, 'loss': 15.39, 'token_acc': 0.7148, 'nll_loss': 0.7693, 'ppl': 2.158}\n",
            "[ time:55.0s total_exs:17248 epochs:1.92 time_left:90.0s ] {'exs': 640, 'lr': 1, 'num_updates': 539, 'loss': 15.25, 'token_acc': 0.732, 'nll_loss': 0.7626, 'ppl': 2.144}\n",
            "[ time:57.0s total_exs:17888 epochs:1.99 time_left:88.0s ] {'exs': 640, 'lr': 1, 'num_updates': 559, 'loss': 15.98, 'token_acc': 0.6969, 'nll_loss': 0.7988, 'ppl': 2.223}\n",
            "[ time:59.0s total_exs:18528 epochs:2.06 time_left:86.0s ] {'exs': 640, 'lr': 1, 'num_updates': 579, 'loss': 15.62, 'token_acc': 0.7188, 'nll_loss': 0.7812, 'ppl': 2.184}\n",
            "[ time:61.0s total_exs:19168 epochs:2.13 time_left:83.0s ] {'exs': 640, 'lr': 1, 'num_updates': 599, 'loss': 15.43, 'token_acc': 0.7219, 'nll_loss': 0.7713, 'ppl': 2.163}\n",
            "[ time:63.0s total_exs:19808 epochs:2.2 time_left:81.0s ] {'exs': 640, 'lr': 1, 'num_updates': 619, 'loss': 14.73, 'token_acc': 0.7297, 'nll_loss': 0.7366, 'ppl': 2.089}\n",
            "[ time:65.0s total_exs:20448 epochs:2.27 time_left:79.0s ] {'exs': 640, 'lr': 1, 'num_updates': 639, 'loss': 14.51, 'token_acc': 0.725, 'nll_loss': 0.7257, 'ppl': 2.066}\n",
            "[ time:67.0s total_exs:21088 epochs:2.34 time_left:77.0s ] {'exs': 640, 'lr': 1, 'num_updates': 659, 'loss': 15.44, 'token_acc': 0.7172, 'nll_loss': 0.7721, 'ppl': 2.164}\n",
            "[ time:69.0s total_exs:21728 epochs:2.41 time_left:75.0s ] {'exs': 640, 'lr': 1, 'num_updates': 679, 'loss': 14.61, 'token_acc': 0.7352, 'nll_loss': 0.7305, 'ppl': 2.076}\n",
            "[ time:71.0s total_exs:22368 epochs:2.49 time_left:73.0s ] {'exs': 640, 'lr': 1, 'num_updates': 699, 'loss': 15.33, 'token_acc': 0.7172, 'nll_loss': 0.7664, 'ppl': 2.152}\n",
            "[ time:73.0s total_exs:23008 epochs:2.56 time_left:71.0s ] {'exs': 640, 'lr': 1, 'num_updates': 719, 'loss': 14.66, 'token_acc': 0.7312, 'nll_loss': 0.7331, 'ppl': 2.082}\n",
            "[ time:75.0s total_exs:23648 epochs:2.63 time_left:69.0s ] {'exs': 640, 'lr': 1, 'num_updates': 739, 'loss': 14.87, 'token_acc': 0.7211, 'nll_loss': 0.7433, 'ppl': 2.103}\n",
            "[ time:77.0s total_exs:24288 epochs:2.7 time_left:67.0s ] {'exs': 640, 'lr': 1, 'num_updates': 759, 'loss': 14.52, 'token_acc': 0.732, 'nll_loss': 0.7259, 'ppl': 2.067}\n",
            "[ time:79.0s total_exs:24928 epochs:2.77 time_left:65.0s ] {'exs': 640, 'lr': 1, 'num_updates': 779, 'loss': 13.87, 'token_acc': 0.7555, 'nll_loss': 0.6934, 'ppl': 2.001}\n",
            "[ time:82.0s total_exs:25568 epochs:2.84 time_left:63.0s ] {'exs': 640, 'lr': 1, 'num_updates': 799, 'loss': 13.98, 'token_acc': 0.7422, 'nll_loss': 0.6991, 'ppl': 2.012}\n",
            "[ time:84.0s total_exs:26208 epochs:2.91 time_left:61.0s ] {'exs': 640, 'lr': 1, 'num_updates': 819, 'loss': 13.99, 'token_acc': 0.7477, 'nll_loss': 0.6995, 'ppl': 2.013}\n",
            "[ time:86.0s total_exs:26848 epochs:2.98 time_left:59.0s ] {'exs': 640, 'lr': 1, 'num_updates': 839, 'loss': 14.89, 'token_acc': 0.7125, 'nll_loss': 0.7444, 'ppl': 2.105}\n",
            "[ time:88.0s total_exs:27488 epochs:3.05 time_left:57.0s ] {'exs': 640, 'lr': 1, 'num_updates': 859, 'loss': 14.05, 'token_acc': 0.7375, 'nll_loss': 0.7023, 'ppl': 2.018}\n",
            "[ time:90.0s total_exs:28128 epochs:3.13 time_left:55.0s ] {'exs': 640, 'lr': 1, 'num_updates': 879, 'loss': 14.27, 'token_acc': 0.732, 'nll_loss': 0.7134, 'ppl': 2.041}\n",
            "[ time:92.0s total_exs:28768 epochs:3.2 time_left:53.0s ] {'exs': 640, 'lr': 1, 'num_updates': 899, 'loss': 13.92, 'token_acc': 0.7453, 'nll_loss': 0.6959, 'ppl': 2.006}\n",
            "[ time:94.0s total_exs:29408 epochs:3.27 time_left:51.0s ] {'exs': 640, 'lr': 1, 'num_updates': 919, 'loss': 14.27, 'token_acc': 0.7391, 'nll_loss': 0.7134, 'ppl': 2.041}\n",
            "[ time:96.0s total_exs:30048 epochs:3.34 time_left:48.0s ] {'exs': 640, 'lr': 1, 'num_updates': 939, 'loss': 14.08, 'token_acc': 0.7281, 'nll_loss': 0.704, 'ppl': 2.022}\n",
            "[ time:98.0s total_exs:30688 epochs:3.41 time_left:46.0s ] {'exs': 640, 'lr': 1, 'num_updates': 959, 'loss': 13.75, 'token_acc': 0.7398, 'nll_loss': 0.6873, 'ppl': 1.988}\n",
            "[ time:100.0s total_exs:31328 epochs:3.48 time_left:44.0s ] {'exs': 640, 'lr': 1, 'num_updates': 979, 'loss': 14.67, 'token_acc': 0.7117, 'nll_loss': 0.7336, 'ppl': 2.082}\n",
            "[ time:102.0s total_exs:31968 epochs:3.55 time_left:42.0s ] {'exs': 640, 'lr': 1, 'num_updates': 999, 'loss': 13.86, 'token_acc': 0.7438, 'nll_loss': 0.6929, 'ppl': 2.0}\n",
            "[ time:104.0s total_exs:32608 epochs:3.62 time_left:40.0s ] {'exs': 640, 'lr': 1, 'num_updates': 1019, 'loss': 13.53, 'token_acc': 0.7453, 'nll_loss': 0.6764, 'ppl': 1.967}\n",
            "[ time:106.0s total_exs:33248 epochs:3.69 time_left:38.0s ] {'exs': 640, 'lr': 1, 'num_updates': 1039, 'loss': 14.0, 'token_acc': 0.7406, 'nll_loss': 0.6999, 'ppl': 2.014}\n",
            "[ time:108.0s total_exs:33888 epochs:3.77 time_left:36.0s ] {'exs': 640, 'lr': 1, 'num_updates': 1059, 'loss': 13.62, 'token_acc': 0.7445, 'nll_loss': 0.6811, 'ppl': 1.976}\n",
            "[ time:110.0s total_exs:34528 epochs:3.84 time_left:34.0s ] {'exs': 640, 'lr': 1, 'num_updates': 1079, 'loss': 13.22, 'token_acc': 0.7484, 'nll_loss': 0.6609, 'ppl': 1.937}\n",
            "[ time:112.0s total_exs:35168 epochs:3.91 time_left:32.0s ] {'exs': 640, 'lr': 1, 'num_updates': 1099, 'loss': 12.95, 'token_acc': 0.7539, 'nll_loss': 0.6476, 'ppl': 1.911}\n",
            "[ time:114.0s total_exs:35808 epochs:3.98 time_left:30.0s ] {'exs': 640, 'lr': 1, 'num_updates': 1119, 'loss': 13.87, 'token_acc': 0.7484, 'nll_loss': 0.6935, 'ppl': 2.001}\n",
            "[ time:117.0s total_exs:36448 epochs:4.05 time_left:28.0s ] {'exs': 640, 'lr': 1, 'num_updates': 1139, 'loss': 13.47, 'token_acc': 0.7586, 'nll_loss': 0.6734, 'ppl': 1.961}\n",
            "[ time:119.0s total_exs:37088 epochs:4.12 time_left:26.0s ] {'exs': 640, 'lr': 1, 'num_updates': 1159, 'loss': 12.94, 'token_acc': 0.7461, 'nll_loss': 0.647, 'ppl': 1.91}\n",
            "[ time:121.0s total_exs:37728 epochs:4.19 time_left:24.0s ] {'exs': 640, 'lr': 1, 'num_updates': 1179, 'loss': 13.21, 'token_acc': 0.7555, 'nll_loss': 0.6606, 'ppl': 1.936}\n",
            "[ time:123.0s total_exs:38368 epochs:4.26 time_left:22.0s ] {'exs': 640, 'lr': 1, 'num_updates': 1199, 'loss': 13.01, 'token_acc': 0.7469, 'nll_loss': 0.6506, 'ppl': 1.917}\n",
            "[ time:125.0s total_exs:39008 epochs:4.33 time_left:20.0s ] {'exs': 640, 'lr': 1, 'num_updates': 1219, 'loss': 13.4, 'token_acc': 0.7383, 'nll_loss': 0.67, 'ppl': 1.954}\n",
            "[ time:127.0s total_exs:39648 epochs:4.41 time_left:18.0s ] {'exs': 640, 'lr': 1, 'num_updates': 1239, 'loss': 13.73, 'token_acc': 0.7453, 'nll_loss': 0.6866, 'ppl': 1.987}\n",
            "[ time:129.0s total_exs:40288 epochs:4.48 time_left:16.0s ] {'exs': 640, 'lr': 1, 'num_updates': 1259, 'loss': 13.13, 'token_acc': 0.7508, 'nll_loss': 0.6566, 'ppl': 1.928}\n",
            "[ time:131.0s total_exs:40928 epochs:4.55 time_left:14.0s ] {'exs': 640, 'lr': 1, 'num_updates': 1279, 'loss': 13.48, 'token_acc': 0.7484, 'nll_loss': 0.6738, 'ppl': 1.962}\n",
            "[ time:133.0s total_exs:41568 epochs:4.62 time_left:12.0s ] {'exs': 640, 'lr': 1, 'num_updates': 1299, 'loss': 13.48, 'token_acc': 0.7352, 'nll_loss': 0.674, 'ppl': 1.962}\n",
            "[ time:135.0s total_exs:42208 epochs:4.69 time_left:9.0s ] {'exs': 640, 'lr': 1, 'num_updates': 1319, 'loss': 13.23, 'token_acc': 0.7492, 'nll_loss': 0.6617, 'ppl': 1.938}\n",
            "[ time:137.0s total_exs:42848 epochs:4.76 time_left:7.0s ] {'exs': 640, 'lr': 1, 'num_updates': 1339, 'loss': 13.1, 'token_acc': 0.7414, 'nll_loss': 0.6548, 'ppl': 1.925}\n",
            "[ time:139.0s total_exs:43488 epochs:4.83 time_left:5.0s ] {'exs': 640, 'lr': 1, 'num_updates': 1359, 'loss': 13.22, 'token_acc': 0.7492, 'nll_loss': 0.661, 'ppl': 1.937}\n",
            "[ time:141.0s total_exs:44128 epochs:4.9 time_left:3.0s ] {'exs': 640, 'lr': 1, 'num_updates': 1379, 'loss': 13.1, 'token_acc': 0.7438, 'nll_loss': 0.655, 'ppl': 1.925}\n",
            "[ time:144.0s total_exs:44768 epochs:4.97 time_left:1.0s ] {'exs': 640, 'lr': 1, 'num_updates': 1399, 'loss': 12.59, 'token_acc': 0.7641, 'nll_loss': 0.6297, 'ppl': 1.877}\n",
            "[ time:144.0s total_exs:45024 epochs:5.0 time_left:0s ] {'exs': 256, 'lr': 1, 'num_updates': 1407, 'loss': 4.763, 'token_acc': 0.7734, 'nll_loss': 0.5954, 'ppl': 1.814}\n",
            "[ num_epochs completed:5.0 time elapsed:144.86116981506348s ]\n",
            "[creating task(s): babi:task10k:1]\n",
            "[loading fbdialog data:/root/ParlAI/data/bAbI/tasks_1-20_v1-2/en-valid-10k-nosf/qa1_valid.txt]\n",
            "[ running eval: valid ]\n",
            "valid:{'exs': 1000, 'accuracy': 0.549, 'f1': 0.549, 'bleu': 5.49e-10, 'lr': 1, 'num_updates': 1407, 'loss': 20.11, 'token_acc': 0.7745, 'nll_loss': 0.57, 'ppl': 1.768}\n",
            "[creating task(s): babi:task10k:1]\n",
            "[loading fbdialog data:/root/ParlAI/data/bAbI/tasks_1-20_v1-2/en-valid-10k-nosf/qa1_test.txt]\n",
            "[ running eval: test ]\n",
            "test:{'exs': 1000, 'accuracy': 0.512, 'f1': 0.512, 'bleu': 5.12e-10, 'lr': 1, 'num_updates': 1407, 'loss': 21.67, 'token_acc': 0.756, 'nll_loss': 0.6116, 'ppl': 1.843}\n"
          ],
          "name": "stdout"
        }
      ]
    },
    {
      "cell_type": "code",
      "metadata": {
        "colab_type": "code",
        "id": "OvxjgtEHTXFb",
        "outputId": "591f9d5d-0266-4bf9-c141-51751cd925aa",
        "colab": {
          "base_uri": "https://localhost:8080/",
          "height": 1000
        }
      },
      "source": [
        "!python ~/ParlAI/examples/display_model.py --task babi:task10k:1 --model seq2seq --model-file /tmp/babi_s2s"
      ],
      "execution_count": 0,
      "outputs": [
        {
          "output_type": "stream",
          "text": [
            "[ optional arguments: ] \n",
            "[  display_ignore_fields:  ]\n",
            "[  num_examples: 10 ]\n",
            "[ Main ParlAI Arguments: ] \n",
            "[  batchsize: 1 ]\n",
            "[  datapath: /root/ParlAI/data ]\n",
            "[  datatype: valid ]\n",
            "[  download_path: /root/ParlAI/downloads ]\n",
            "[  hide_labels: False ]\n",
            "[  image_mode: raw ]\n",
            "[  multitask_weights: [1] ]\n",
            "[  numthreads: 1 ]\n",
            "[  show_advanced_args: False ]\n",
            "[  task: babi:task10k:1 ]\n",
            "[ ParlAI Model Arguments: ] \n",
            "[  dict_class: parlai.core.dict:DictionaryAgent ]\n",
            "[  init_model: None ]\n",
            "[  model: seq2seq ]\n",
            "[  model_file: /tmp/babi_s2s ]\n",
            "[ ParlAI Image Preprocessing Arguments: ] \n",
            "[  image_cropsize: 224 ]\n",
            "[  image_size: 256 ]\n",
            "[ Seq2Seq Arguments: ] \n",
            "[  attention: none ]\n",
            "[  attention_length: 48 ]\n",
            "[  attention_time: post ]\n",
            "[  bidirectional: False ]\n",
            "[  decoder: same ]\n",
            "[  dropout: 0.1 ]\n",
            "[  embeddingsize: 128 ]\n",
            "[  hiddensize: 128 ]\n",
            "[  input_dropout: 0.0 ]\n",
            "[  lookuptable: unique ]\n",
            "[  numlayers: 2 ]\n",
            "[  numsoftmax: 1 ]\n",
            "[  rnn_class: lstm ]\n",
            "[ Torch Generator Agent: ] \n",
            "[  beam_block_ngram: 0 ]\n",
            "[  beam_dot_log: False ]\n",
            "[  beam_min_length: 1 ]\n",
            "[  beam_min_n_best: 3 ]\n",
            "[  beam_size: 1 ]\n",
            "[  skip_generation: False ]\n",
            "[ TorchAgent Arguments: ] \n",
            "[  add_p1_after_newln: False ]\n",
            "[  betas: (0.9, 0.999) ]\n",
            "[  delimiter: \n",
            " ]\n",
            "[  embedding_projection: random ]\n",
            "[  embedding_type: random ]\n",
            "[  gpu: -1 ]\n",
            "[  gradient_clip: 0.1 ]\n",
            "[  history_size: -1 ]\n",
            "[  label_truncate: None ]\n",
            "[  learningrate: 1 ]\n",
            "[  lr_scheduler: reduceonplateau ]\n",
            "[  lr_scheduler_decay: 0.5 ]\n",
            "[  lr_scheduler_patience: 3 ]\n",
            "[  momentum: 0 ]\n",
            "[  nesterov: True ]\n",
            "[  no_cuda: False ]\n",
            "[  nus: (0.7,) ]\n",
            "[  optimizer: sgd ]\n",
            "[  person_tokens: False ]\n",
            "[  rank_candidates: False ]\n",
            "[  split_lines: False ]\n",
            "[  text_truncate: None ]\n",
            "[  truncate: -1 ]\n",
            "[  update_freq: -1 ]\n",
            "[  use_reply: label ]\n",
            "[  warmup_rate: 0.0001 ]\n",
            "[  warmup_updates: -1 ]\n",
            "[ Dictionary Arguments: ] \n",
            "[  bpe_debug: False ]\n",
            "[  dict_endtoken: __end__ ]\n",
            "[  dict_file: None ]\n",
            "[  dict_initpath: None ]\n",
            "[  dict_language: english ]\n",
            "[  dict_lower: False ]\n",
            "[  dict_max_ngram_size: -1 ]\n",
            "[  dict_maxtokens: -1 ]\n",
            "[  dict_minfreq: 0 ]\n",
            "[  dict_nulltoken: __null__ ]\n",
            "[  dict_starttoken: __start__ ]\n",
            "[  dict_textfields: text,labels ]\n",
            "[  dict_tokenizer: re ]\n",
            "[  dict_unktoken: __unk__ ]\n",
            "Dictionary: loading dictionary from /tmp/babi_s2s.dict\n",
            "[ num words =  26 ]\n",
            "/usr/local/lib/python3.6/dist-packages/torch/nn/_reduction.py:43: UserWarning: size_average and reduce args will be deprecated, please use reduction='sum' instead.\n",
            "  warnings.warn(warning.format(ret))\n",
            "[ Loading existing model params from /tmp/babi_s2s ]\n",
            "/root/ParlAI/parlai/core/torch_agent.py:727: UserWarning: LR scheduler is different from saved. Starting fresh!\n",
            "  warn_once(\"LR scheduler is different from saved. Starting fresh!\")\n",
            "[creating task(s): babi:task10k:1]\n",
            "[loading fbdialog data:/root/ParlAI/data/bAbI/tasks_1-20_v1-2/en-valid-10k-nosf/qa1_valid.txt]\n",
            "[eval_labels_choice]: bathroom\n",
            "[babi:task10k:1]: Sandra travelled to the office.\n",
            "Sandra went to the bathroom.\n",
            "Where is Sandra?\n",
            "[eval_labels: bathroom]\n",
            "[label_candidates: bedroom|kitchen|hallway|office|bathroom|...and 1 more]\n",
            "   [Seq2Seq]: bathroom\n",
            "~~\n",
            "[eval_labels_choice]: bathroom\n",
            "[babi:task10k:1]: Sandra travelled to the office.\n",
            "Sandra went to the bathroom.\n",
            "Where is Sandra?\n",
            "bathroom\n",
            "Mary went to the bedroom.\n",
            "Daniel moved to the hallway.\n",
            "Where is Sandra?\n",
            "[eval_labels: bathroom]\n",
            "[label_candidates: bedroom|kitchen|hallway|office|bathroom|...and 1 more]\n",
            "   [Seq2Seq]: hallway\n",
            "~~\n",
            "[eval_labels_choice]: bathroom\n",
            "[babi:task10k:1]: Sandra travelled to the office.\n",
            "Sandra went to the bathroom.\n",
            "Where is Sandra?\n",
            "bathroom\n",
            "Mary went to the bedroom.\n",
            "Daniel moved to the hallway.\n",
            "Where is Sandra?\n",
            "bathroom\n",
            "John went to the garden.\n",
            "John travelled to the office.\n",
            "Where is Sandra?\n",
            "[eval_labels: bathroom]\n",
            "[label_candidates: bedroom|kitchen|hallway|office|bathroom|...and 1 more]\n",
            "   [Seq2Seq]: office\n",
            "~~\n",
            "[eval_labels_choice]: office\n",
            "[babi:task10k:1]: Sandra travelled to the office.\n",
            "Sandra went to the bathroom.\n",
            "Where is Sandra?\n",
            "bathroom\n",
            "Mary went to the bedroom.\n",
            "Daniel moved to the hallway.\n",
            "Where is Sandra?\n",
            "bathroom\n",
            "John went to the garden.\n",
            "John travelled to the office.\n",
            "Where is Sandra?\n",
            "bathroom\n",
            "Daniel journeyed to the bedroom.\n",
            "Daniel travelled to the hallway.\n",
            "Where is John?\n",
            "[eval_labels: office]\n",
            "[label_candidates: bedroom|kitchen|hallway|office|bathroom|...and 1 more]\n",
            "   [Seq2Seq]: hallway\n",
            "~~\n",
            "[eval_labels_choice]: hallway\n",
            "[babi:task10k:1]: Sandra travelled to the office.\n",
            "Sandra went to the bathroom.\n",
            "Where is Sandra?\n",
            "bathroom\n",
            "Mary went to the bedroom.\n",
            "Daniel moved to the hallway.\n",
            "Where is Sandra?\n",
            "bathroom\n",
            "John went to the garden.\n",
            "John travelled to the office.\n",
            "Where is Sandra?\n",
            "bathroom\n",
            "Daniel journeyed to the bedroom.\n",
            "Daniel travelled to the hallway.\n",
            "Where is John?\n",
            "office\n",
            "John went to the bedroom.\n",
            "John travelled to the office.\n",
            "Where is Daniel?\n",
            "[eval_labels: hallway]\n",
            "[label_candidates: bedroom|kitchen|hallway|office|bathroom|...and 1 more]\n",
            "   [Seq2Seq]: office\n",
            "- - - - - - - - - - - - - - - - - - - - -\n",
            "~~\n",
            "[eval_labels_choice]: garden\n",
            "[babi:task10k:1]: Sandra went back to the bathroom.\n",
            "Mary moved to the garden.\n",
            "Where is Mary?\n",
            "[eval_labels: garden]\n",
            "[label_candidates: bedroom|kitchen|hallway|office|bathroom|...and 1 more]\n",
            "   [Seq2Seq]: garden\n",
            "~~\n",
            "[eval_labels_choice]: office\n",
            "[babi:task10k:1]: Sandra went back to the bathroom.\n",
            "Mary moved to the garden.\n",
            "Where is Mary?\n",
            "garden\n",
            "Mary went back to the hallway.\n",
            "Sandra went to the office.\n",
            "Where is Sandra?\n",
            "[eval_labels: office]\n",
            "[label_candidates: bedroom|kitchen|hallway|office|bathroom|...and 1 more]\n",
            "   [Seq2Seq]: office\n",
            "~~\n",
            "[eval_labels_choice]: office\n",
            "[babi:task10k:1]: Sandra went back to the bathroom.\n",
            "Mary moved to the garden.\n",
            "Where is Mary?\n",
            "garden\n",
            "Mary went back to the hallway.\n",
            "Sandra went to the office.\n",
            "Where is Sandra?\n",
            "office\n",
            "John went back to the hallway.\n",
            "John travelled to the office.\n",
            "Where is Sandra?\n",
            "[eval_labels: office]\n",
            "[label_candidates: bedroom|kitchen|hallway|office|bathroom|...and 1 more]\n",
            "   [Seq2Seq]: office\n",
            "~~\n",
            "[eval_labels_choice]: office\n",
            "[babi:task10k:1]: Sandra went back to the bathroom.\n",
            "Mary moved to the garden.\n",
            "Where is Mary?\n",
            "garden\n",
            "Mary went back to the hallway.\n",
            "Sandra went to the office.\n",
            "Where is Sandra?\n",
            "office\n",
            "John went back to the hallway.\n",
            "John travelled to the office.\n",
            "Where is Sandra?\n",
            "office\n",
            "Sandra journeyed to the hallway.\n",
            "Daniel moved to the office.\n",
            "Where is John?\n",
            "[eval_labels: office]\n",
            "[label_candidates: bedroom|kitchen|hallway|office|bathroom|...and 1 more]\n",
            "   [Seq2Seq]: office\n",
            "~~\n",
            "[eval_labels_choice]: office\n",
            "[babi:task10k:1]: Sandra went back to the bathroom.\n",
            "Mary moved to the garden.\n",
            "Where is Mary?\n",
            "garden\n",
            "Mary went back to the hallway.\n",
            "Sandra went to the office.\n",
            "Where is Sandra?\n",
            "office\n",
            "John went back to the hallway.\n",
            "John travelled to the office.\n",
            "Where is Sandra?\n",
            "office\n",
            "Sandra journeyed to the hallway.\n",
            "Daniel moved to the office.\n",
            "Where is John?\n",
            "office\n",
            "Mary went to the office.\n",
            "Sandra went to the office.\n",
            "Where is John?\n",
            "[eval_labels: office]\n",
            "[label_candidates: bedroom|kitchen|hallway|office|bathroom|...and 1 more]\n",
            "   [Seq2Seq]: office\n",
            "- - - - - - - - - - - - - - - - - - - - -\n",
            "~~\n"
          ],
          "name": "stdout"
        }
      ]
    },
    {
      "cell_type": "markdown",
      "metadata": {
        "colab_type": "text",
        "id": "DaX_GSktxrz1"
      },
      "source": [
        "### Ranking model: memory network\n",
        "\n",
        "We saw in the class that Memory Networks ([Sukhbaatar et al. 15'](https://papers.nips.cc/paper/5846-end-to-end-memory-networks.pdf)) rely on an explicit memory \"database\". this is especially adapted to tasks where a few useful memories are \"hidden\" among distractor memories.  \n",
        "These type of networks worktherefore  especially well for the bAbI tasks by turning the previous dialog turns as memories and the question as the query.  \n",
        "Here is an illustration of how a memory network work:\n",
        "\n",
        "![Memory Network schema](https://raw.githubusercontent.com/louismartin/ammi-2019-bordes-DeepNLP/master/lab1/memory_network.png)\n",
        "\n",
        "\n",
        "---\n",
        "**Question 4**  \n",
        "- **4.d.** Explain how hops work in a memory network (either with words or formulas using the notations of the above figure)\n",
        "- **4.e.** How can a memory network be used to rank multiple candidates?  \n",
        "  (*hint: you can look at the [implementation](https://github.com/facebookresearch/ParlAI/blob/6bd0e58692b3fd3a13b5f654944525ac1b7cd8e3/parlai/agents/memnn/modules.py#L22) of the memory network in ParlAI and especially the `_score()` method. Recall how the IR baseline worked.*)\n",
        "  \n",
        "*ANSWER HERE*\n",
        "\n",
        "\n",
        " **4.d.** The reason why input query embedding $q_{i+1}$ is considered at the end, is precisely so that we can make a module out of this architecture that can be repeated to compute more and more abstract output representations. To do that, instead of classifying the output vector $o$, we will use ($o$ + $q_{i+1}$) as the new $q_{i+1}$ for a new round of this process, up to a fixed but unbounded number of times. Each such recursive call is called a hop, and is regarded as the model reconsidering its answer over and over until it gets to a ‘good enough’ answer (i.e. one that can be better classified). Then we compute final answer  only on the last hop.\n",
        "\n",
        "\n",
        "**4.e.** The memory network can be used to rank multiple candidates by taking a query as input and then by making multiple passes on the memories to create an embeddings representation of the predicted answer. we also compute a representation of all the candidate answers with another model. Then we just rank the candidate answer that has the embedding that is the nearest in terms of dot product to the output representation of the predicted answer. In the step of computing the scores for each candidate answer, the proccess is a ranking step since we rank all the candidate answers according to their score and then take the first.\n",
        "\n",
        "\n",
        "---"
      ]
    },
    {
      "cell_type": "markdown",
      "metadata": {
        "colab_type": "text",
        "id": "YHICORdji1Cx"
      },
      "source": [
        "\n",
        "- **4.f.** Using the ParlAI implementation, train a memory network on bAbI tasks 1, 2 and 3 (10k) and compare its results with the baselines.  \n",
        "   (*hint: use a 1 thread, a batch size of 32 and 5 epochs*)\n"
      ]
    },
    {
      "cell_type": "code",
      "metadata": {
        "colab_type": "code",
        "id": "iKeyD3UYsaFs",
        "outputId": "0bec9c51-abdf-473b-b7f5-e2eeabf672f8",
        "colab": {
          "base_uri": "https://localhost:8080/",
          "height": 654
        }
      },
      "source": [
        "# SOLUTION\n",
        "for i in range(3):\n",
        "    print(f'~ Task {i+1} ~')\n",
        "    !python ~/ParlAI/examples/train_model.py -t babi:task10k:{i+1} -m memnn -mf /tmp/babi{i+1}_memnn -bs 32 -eps 5 | grep \"'accuracy':\""
      ],
      "execution_count": 0,
      "outputs": [
        {
          "output_type": "stream",
          "text": [
            "~ Task 1 ~\n",
            "Building dictionary: 100% 9.00k/9.00k [00:00<00:00, 25.6kex/s]\n",
            "/usr/local/lib/python3.6/dist-packages/torch/nn/_reduction.py:43: UserWarning: size_average and reduce args will be deprecated, please use reduction='sum' instead.\n",
            "  warnings.warn(warning.format(ret))\n",
            "/root/ParlAI/parlai/core/torch_ranker_agent.py:376: UserWarning: [ Executing train mode with provided inline set of candidates ]\n",
            "  ''.format(mode)\n",
            "/root/ParlAI/parlai/core/torch_ranker_agent.py:214: UserWarning: Some training metrics are omitted for speed. Set the flag `--train-predict` to calculate train metrics.\n",
            "  \"Some training metrics are omitted for speed. Set the flag \"\n",
            "/root/ParlAI/parlai/core/torch_ranker_agent.py:376: UserWarning: [ Executing eval mode with provided inline set of candidates ]\n",
            "  ''.format(mode)\n",
            "valid:{'exs': 1000, 'accuracy': 0.972, 'f1': 0.972, 'hits@1': 0.972, 'hits@5': 0.999, 'hits@10': 1.0, 'hits@100': 1.0, 'bleu': 9.72e-10, 'lr': 1, 'num_updates': 1407, 'examples': 1000, 'loss': 150.1, 'mean_loss': 0.1501, 'mean_rank': 1.048}\n",
            "test:{'exs': 1000, 'accuracy': 0.963, 'f1': 0.963, 'hits@1': 0.963, 'hits@5': 0.999, 'hits@10': 1.0, 'hits@100': 1.0, 'bleu': 9.63e-10, 'lr': 1, 'num_updates': 1407, 'examples': 1000, 'loss': 168.7, 'mean_loss': 0.1687, 'mean_rank': 1.05}\n",
            "~ Task 2 ~\n",
            "Building dictionary: 100% 9.00k/9.00k [00:00<00:00, 18.4kex/s]\n",
            "/usr/local/lib/python3.6/dist-packages/torch/nn/_reduction.py:43: UserWarning: size_average and reduce args will be deprecated, please use reduction='sum' instead.\n",
            "  warnings.warn(warning.format(ret))\n",
            "/root/ParlAI/parlai/core/torch_ranker_agent.py:376: UserWarning: [ Executing train mode with provided inline set of candidates ]\n",
            "  ''.format(mode)\n",
            "/root/ParlAI/parlai/core/torch_ranker_agent.py:214: UserWarning: Some training metrics are omitted for speed. Set the flag `--train-predict` to calculate train metrics.\n",
            "  \"Some training metrics are omitted for speed. Set the flag \"\n",
            "/root/ParlAI/parlai/core/torch_ranker_agent.py:376: UserWarning: [ Executing eval mode with provided inline set of candidates ]\n",
            "  ''.format(mode)\n",
            "valid:{'exs': 1000, 'accuracy': 0.306, 'f1': 0.306, 'hits@1': 0.306, 'hits@5': 0.921, 'hits@10': 1.0, 'hits@100': 1.0, 'bleu': 3.06e-10, 'lr': 1, 'num_updates': 1407, 'examples': 1000, 'loss': 1808.0, 'mean_loss': 1.808, 'mean_rank': 2.799}\n",
            "test:{'exs': 1000, 'accuracy': 0.318, 'f1': 0.318, 'hits@1': 0.318, 'hits@5': 0.92, 'hits@10': 1.0, 'hits@100': 1.0, 'bleu': 3.18e-10, 'lr': 1, 'num_updates': 1407, 'examples': 1000, 'loss': 1867.0, 'mean_loss': 1.867, 'mean_rank': 2.765}\n",
            "~ Task 3 ~\n",
            "Building dictionary: 100% 9.00k/9.00k [00:01<00:00, 8.42kex/s]\n",
            "/usr/local/lib/python3.6/dist-packages/torch/nn/_reduction.py:43: UserWarning: size_average and reduce args will be deprecated, please use reduction='sum' instead.\n",
            "  warnings.warn(warning.format(ret))\n",
            "/root/ParlAI/parlai/core/torch_ranker_agent.py:376: UserWarning: [ Executing train mode with provided inline set of candidates ]\n",
            "  ''.format(mode)\n",
            "/root/ParlAI/parlai/core/torch_ranker_agent.py:214: UserWarning: Some training metrics are omitted for speed. Set the flag `--train-predict` to calculate train metrics.\n",
            "  \"Some training metrics are omitted for speed. Set the flag \"\n",
            "/root/ParlAI/parlai/core/torch_ranker_agent.py:376: UserWarning: [ Executing eval mode with provided inline set of candidates ]\n",
            "  ''.format(mode)\n",
            "valid:{'exs': 1000, 'accuracy': 0.416, 'f1': 0.416, 'hits@1': 0.416, 'hits@5': 0.993, 'hits@10': 1.0, 'hits@100': 1.0, 'bleu': 4.16e-10, 'lr': 1, 'num_updates': 1407, 'examples': 1000, 'loss': 1540.0, 'mean_loss': 1.54, 'mean_rank': 2.324}\n",
            "test:{'exs': 1000, 'accuracy': 0.405, 'f1': 0.405, 'hits@1': 0.405, 'hits@5': 0.982, 'hits@10': 1.0, 'hits@100': 1.0, 'bleu': 4.05e-10, 'lr': 1, 'num_updates': 1407, 'examples': 1000, 'loss': 1621.0, 'mean_loss': 1.621, 'mean_rank': 2.352}\n"
          ],
          "name": "stdout"
        }
      ]
    },
    {
      "cell_type": "markdown",
      "metadata": {
        "colab_type": "text",
        "id": "DHH0Wy34o3_W"
      },
      "source": [
        "## 5. To go further"
      ]
    },
    {
      "cell_type": "markdown",
      "metadata": {
        "colab_type": "text",
        "id": "zaNGupqLssUB"
      },
      "source": [
        "If you want to go further you can try to do the following:\n",
        "\n",
        "- Retrieve and plot the attention of the memory network for the different hops along the memories.\n",
        "- For the seq2seq model, can you plot the training loss? The validation loss? Both on the same plot?\n",
        "- Can you show an example of overfitting?\n",
        "- Adapt the seq2seq model for ranking using the [torch ranker tutorial](http://www.parl.ai/static/docs/tutorial_torch_ranker_agent.html)\n",
        "- Try multitasking babi and squad, does it improve the performance? (this will require more GPU power than what is available in google colab)\n",
        "- You can play around with other models and other tasks\n",
        "- Try interfacing ParlAI with [messenger](http://www.parl.ai/static/docs/tutorial_messenger.html )"
      ]
    }
  ]
}