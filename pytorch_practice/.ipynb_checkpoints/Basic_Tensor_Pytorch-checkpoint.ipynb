{
 "cells": [
  {
   "cell_type": "code",
   "execution_count": 65,
   "metadata": {},
   "outputs": [],
   "source": [
    "import torch\n",
    "import time"
   ]
  },
  {
   "cell_type": "markdown",
   "metadata": {},
   "source": [
    "1. Multple views of storage"
   ]
  },
  {
   "cell_type": "code",
   "execution_count": 64,
   "metadata": {},
   "outputs": [
    {
     "data": {
      "text/plain": [
       "tensor([[1., 2., 1., 1., 1., 1., 2., 1., 1., 1., 1., 2., 1.],\n",
       "        [2., 2., 2., 2., 2., 2., 2., 2., 2., 2., 2., 2., 2.],\n",
       "        [1., 2., 1., 1., 1., 1., 2., 1., 1., 1., 1., 2., 1.],\n",
       "        [1., 2., 1., 3., 3., 1., 2., 1., 3., 3., 1., 2., 1.],\n",
       "        [1., 2., 1., 3., 3., 1., 2., 1., 3., 3., 1., 2., 1.],\n",
       "        [1., 2., 1., 1., 1., 1., 2., 1., 1., 1., 1., 2., 1.],\n",
       "        [1., 2., 1., 1., 1., 1., 2., 1., 1., 1., 1., 2., 1.],\n",
       "        [2., 2., 2., 2., 2., 2., 2., 2., 2., 2., 2., 2., 2.],\n",
       "        [1., 2., 1., 3., 3., 1., 2., 1., 3., 3., 1., 2., 1.],\n",
       "        [1., 2., 1., 3., 3., 1., 2., 1., 3., 3., 1., 2., 1.],\n",
       "        [1., 2., 1., 1., 1., 1., 2., 1., 1., 1., 1., 2., 1.],\n",
       "        [1., 2., 1., 1., 1., 1., 2., 1., 1., 1., 1., 2., 1.],\n",
       "        [1., 2., 1., 1., 1., 1., 2., 1., 1., 1., 1., 2., 1.]])"
      ]
     },
     "execution_count": 64,
     "metadata": {},
     "output_type": "execute_result"
    }
   ],
   "source": [
    "mat=torch.full((13, 13), 1) \n",
    "mat[:,1::5]=2\n",
    "mat[1::6,:]=2\n",
    "#mat[:,11]=2\n",
    "mat[3:5,3:5]=3\n",
    "mat[3:5,8:10]=3\n",
    "mat[8:10,3:5]=3\n",
    "mat[8:10,8:10]=3\n",
    "mat"
   ]
  },
  {
   "cell_type": "markdown",
   "metadata": {},
   "source": [
    "2. Flops per second"
   ]
  },
  {
   "cell_type": "code",
   "execution_count": 114,
   "metadata": {},
   "outputs": [],
   "source": [
    "mat1= torch.empty(5000, 5000)\n",
    "mat2= torch.empty(5000, 5000)"
   ]
  },
  {
   "cell_type": "code",
   "execution_count": 115,
   "metadata": {},
   "outputs": [],
   "source": [
    "mat1= mat1.normal_\n",
    "mat2= mat2.normal_"
   ]
  },
  {
   "cell_type": "code",
   "execution_count": 120,
   "metadata": {},
   "outputs": [],
   "source": [
    "begin=time.perf_counter()\n",
    "multiplication=torch.mm(mat1(), mat2())\n",
    "end=time.perf_counter()"
   ]
  },
  {
   "cell_type": "code",
   "execution_count": 121,
   "metadata": {},
   "outputs": [
    {
     "data": {
      "text/plain": [
       "tensor([[  -4.5635,  -36.0604,   22.7584,  ...,   56.7895,   79.1862,\n",
       "           53.8350],\n",
       "        [-106.5351,  174.6922,   99.9550,  ...,  -24.9026,   37.6865,\n",
       "          -24.1570],\n",
       "        [  57.2366,  -48.3925,  -46.9093,  ..., -140.8684,   47.5566,\n",
       "           16.4252],\n",
       "        ...,\n",
       "        [  71.3366, -158.1385,   62.5146,  ...,   50.6169,  -93.7723,\n",
       "           64.7180],\n",
       "        [  72.3728,  -83.9175,   12.4736,  ...,  -27.7741,   26.6830,\n",
       "           77.0833],\n",
       "        [  46.8185, -113.3306,   49.9084,  ..., -155.0277,  142.4183,\n",
       "          111.4827]])"
      ]
     },
     "execution_count": 121,
     "metadata": {},
     "output_type": "execute_result"
    }
   ],
   "source": [
    "multiplication"
   ]
  },
  {
   "cell_type": "code",
   "execution_count": 144,
   "metadata": {},
   "outputs": [
    {
     "data": {
      "text/plain": [
       "133595752727.6793"
      ]
     },
     "execution_count": 144,
     "metadata": {},
     "output_type": "execute_result"
    }
   ],
   "source": [
    "(multiplication.size()[0])**3/(end-begin)"
   ]
  },
  {
   "cell_type": "code",
   "execution_count": 143,
   "metadata": {},
   "outputs": [
    {
     "data": {
      "text/plain": [
       "torch.Size([5000, 5000])"
      ]
     },
     "execution_count": 143,
     "metadata": {},
     "output_type": "execute_result"
    }
   ],
   "source": []
  },
  {
   "cell_type": "markdown",
   "metadata": {},
   "source": [
    "3. playing with strides"
   ]
  },
  {
   "cell_type": "code",
   "execution_count": 150,
   "metadata": {},
   "outputs": [],
   "source": [
    "def mul_row(tens):\n",
    "    new_ten = torch.empty_like(tens)\n",
    "    for i in range(tens.size()[0]):\n",
    "        #print(tens[i,:])\n",
    "        new_ten[i,:]=tens[i,:]*(i+1)\n",
    "    return new_ten\n",
    "        \n",
    "    "
   ]
  },
  {
   "cell_type": "code",
   "execution_count": 192,
   "metadata": {},
   "outputs": [],
   "source": [
    "m=torch.full((4,8),2.0)"
   ]
  },
  {
   "cell_type": "code",
   "execution_count": 193,
   "metadata": {},
   "outputs": [
    {
     "data": {
      "text/plain": [
       "tensor([[2., 2., 2., 2., 2., 2., 2., 2.],\n",
       "        [4., 4., 4., 4., 4., 4., 4., 4.],\n",
       "        [6., 6., 6., 6., 6., 6., 6., 6.],\n",
       "        [8., 8., 8., 8., 8., 8., 8., 8.]])"
      ]
     },
     "execution_count": 193,
     "metadata": {},
     "output_type": "execute_result"
    }
   ],
   "source": [
    "mul_row(m)"
   ]
  },
  {
   "cell_type": "code",
   "execution_count": 229,
   "metadata": {},
   "outputs": [],
   "source": [
    "def mul_row_fast(tens):\n",
    "    new_ten = torch.empty_like(tens)\n",
    "    #m =tens.size()[0]\n",
    "    n =tens.size()[0]\n",
    "    multiplier = torch.arange(1,n+1).view(-1,1)\n",
    "    new_ten = torch.mul(tens, multiplier)\n",
    "    return new_ten\n",
    "    "
   ]
  },
  {
   "cell_type": "code",
   "execution_count": 246,
   "metadata": {},
   "outputs": [
    {
     "data": {
      "text/plain": [
       "tensor([[2., 2., 2., 2., 2., 2., 2., 2.],\n",
       "        [4., 4., 4., 4., 4., 4., 4., 4.],\n",
       "        [6., 6., 6., 6., 6., 6., 6., 6.],\n",
       "        [8., 8., 8., 8., 8., 8., 8., 8.]])"
      ]
     },
     "execution_count": 246,
     "metadata": {},
     "output_type": "execute_result"
    }
   ],
   "source": [
    "mul_row_fast(m)"
   ]
  },
  {
   "cell_type": "code",
   "execution_count": 221,
   "metadata": {},
   "outputs": [],
   "source": [
    "# def mul_row_fast(m):\n",
    "#     d = m.size(0)\n",
    "#     mat = torch.arange(1, d+1).view(-1,1).float()\n",
    "#     return m.mul(mat)"
   ]
  },
  {
   "cell_type": "code",
   "execution_count": 236,
   "metadata": {},
   "outputs": [
    {
     "data": {
      "text/plain": [
       "tensor([[1., 1., 1.,  ..., 1., 1., 1.],\n",
       "        [1., 1., 1.,  ..., 1., 1., 1.],\n",
       "        [1., 1., 1.,  ..., 1., 1., 1.],\n",
       "        ...,\n",
       "        [1., 1., 1.,  ..., 1., 1., 1.],\n",
       "        [1., 1., 1.,  ..., 1., 1., 1.],\n",
       "        [1., 1., 1.,  ..., 1., 1., 1.]])"
      ]
     },
     "execution_count": 236,
     "metadata": {},
     "output_type": "execute_result"
    }
   ],
   "source": [
    "mat3= torch.ones(1000, 400)\n",
    "mat3\n",
    "#mat2= torch.empty(1000, 5000)"
   ]
  },
  {
   "cell_type": "code",
   "execution_count": 239,
   "metadata": {},
   "outputs": [],
   "source": [
    "begin1=time.perf_counter()\n",
    "rest=mul_row(mat3)\n",
    "end1=time.perf_counter()"
   ]
  },
  {
   "cell_type": "code",
   "execution_count": 240,
   "metadata": {},
   "outputs": [],
   "source": [
    "begin2=time.perf_counter()\n",
    "restt = mul_row_fast(mat3)\n",
    "end2=time.perf_counter()\n"
   ]
  },
  {
   "cell_type": "code",
   "execution_count": 245,
   "metadata": {},
   "outputs": [
    {
     "data": {
      "text/plain": [
       "(0.034802217000105884, 0.0035463269996398594)"
      ]
     },
     "execution_count": 245,
     "metadata": {},
     "output_type": "execute_result"
    }
   ],
   "source": [
    "rest==restt\n",
    "end1-begin1, end2-begin2"
   ]
  },
  {
   "cell_type": "code",
   "execution_count": null,
   "metadata": {},
   "outputs": [],
   "source": []
  }
 ],
 "metadata": {
  "kernelspec": {
   "display_name": "Python 3",
   "language": "python",
   "name": "python3"
  },
  "language_info": {
   "codemirror_mode": {
    "name": "ipython",
    "version": 3
   },
   "file_extension": ".py",
   "mimetype": "text/x-python",
   "name": "python",
   "nbconvert_exporter": "python",
   "pygments_lexer": "ipython3",
   "version": "3.7.4"
  }
 },
 "nbformat": 4,
 "nbformat_minor": 4
}
